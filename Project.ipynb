{
  "cells": [
    {
      "cell_type": "markdown",
      "metadata": {
        "id": "view-in-github",
        "colab_type": "text"
      },
      "source": [
        "<a href=\"https://colab.research.google.com/github/LailaMRomero/NeuralNetwork/blob/main/Project.ipynb\" target=\"_parent\"><img src=\"https://colab.research.google.com/assets/colab-badge.svg\" alt=\"Open In Colab\"/></a>"
      ]
    },
    {
      "cell_type": "markdown",
      "metadata": {
        "id": "gPhH2Dwy5ZNy"
      },
      "source": [
        "# **Semantic Segmentation of Urban UAV Footage**\n"
      ]
    },
    {
      "cell_type": "markdown",
      "metadata": {
        "id": "tH3sX2Ej6I4n"
      },
      "source": [
        "## **Notebook Setup**\n"
      ]
    },
    {
      "cell_type": "code",
      "source": [
        "from google.colab import drive\n",
        "drive.mount('/content/drive')\n",
        "\n",
        "import sys\n",
        "\n",
        "PROJECT = '/content/drive/MyDrive/COSC6338'\n",
        "DATASET = '/content/drive/MyDrive/COSC6338/Dataset'\n",
        "TOOLKIT = '/content/drive/MyDrive/COSC6338/Dataset/UAVidToolKit'\n",
        "sys.path.append(PROJECT)\n",
        "\n",
        "%cd $PROJECT\n",
        "\n",
        "!pip install segmentation-models-pytorch"
      ],
      "metadata": {
        "id": "IOzX7fiVK8Ed"
      },
      "execution_count": null,
      "outputs": []
    },
    {
      "cell_type": "code",
      "source": [
        "from google.colab import drive\n",
        "drive.mount('/content/drive')\n",
        "\n",
        "import sys\n",
        "\n",
        "PROJECT = '/content/drive/MyDrive/COSC6338'\n",
        "DATASET = '/content/drive/MyDrive/COSC6338/Dataset'\n",
        "TOOLKIT = '/content/drive/MyDrive/COSC6338/Dataset/UAVidToolKit'\n",
        "sys.path.append(PROJECT)\n",
        "\n",
        "%cd $PROJECT\n",
        "\n",
        "!pip install segmentation-models-pytorch"
      ],
      "metadata": {
        "id": "5Ufc1asanFGJ",
        "colab": {
          "base_uri": "https://localhost:8080/"
        },
        "outputId": "f1b5a984-e218-4731-9a3e-9d7f05584e8b"
      },
      "execution_count": null,
      "outputs": [
        {
          "output_type": "stream",
          "name": "stdout",
          "text": [
            "Drive already mounted at /content/drive; to attempt to forcibly remount, call drive.mount(\"/content/drive\", force_remount=True).\n",
            "/content/drive/MyDrive/COSC6338\n",
            "Requirement already satisfied: segmentation-models-pytorch in /usr/local/lib/python3.7/dist-packages (0.2.1)\n",
            "Requirement already satisfied: pretrainedmodels==0.7.4 in /usr/local/lib/python3.7/dist-packages (from segmentation-models-pytorch) (0.7.4)\n",
            "Requirement already satisfied: efficientnet-pytorch==0.6.3 in /usr/local/lib/python3.7/dist-packages (from segmentation-models-pytorch) (0.6.3)\n",
            "Requirement already satisfied: timm==0.4.12 in /usr/local/lib/python3.7/dist-packages (from segmentation-models-pytorch) (0.4.12)\n",
            "Requirement already satisfied: torchvision>=0.5.0 in /usr/local/lib/python3.7/dist-packages (from segmentation-models-pytorch) (0.11.1+cu111)\n",
            "Requirement already satisfied: torch in /usr/local/lib/python3.7/dist-packages (from efficientnet-pytorch==0.6.3->segmentation-models-pytorch) (1.10.0+cu111)\n",
            "Requirement already satisfied: tqdm in /usr/local/lib/python3.7/dist-packages (from pretrainedmodels==0.7.4->segmentation-models-pytorch) (4.64.0)\n",
            "Requirement already satisfied: munch in /usr/local/lib/python3.7/dist-packages (from pretrainedmodels==0.7.4->segmentation-models-pytorch) (2.5.0)\n",
            "Requirement already satisfied: typing-extensions in /usr/local/lib/python3.7/dist-packages (from torch->efficientnet-pytorch==0.6.3->segmentation-models-pytorch) (4.1.1)\n",
            "Requirement already satisfied: numpy in /usr/local/lib/python3.7/dist-packages (from torchvision>=0.5.0->segmentation-models-pytorch) (1.21.5)\n",
            "Requirement already satisfied: pillow!=8.3.0,>=5.3.0 in /usr/local/lib/python3.7/dist-packages (from torchvision>=0.5.0->segmentation-models-pytorch) (7.1.2)\n",
            "Requirement already satisfied: six in /usr/local/lib/python3.7/dist-packages (from munch->pretrainedmodels==0.7.4->segmentation-models-pytorch) (1.15.0)\n"
          ]
        }
      ]
    },
    {
      "cell_type": "code",
      "execution_count": null,
      "metadata": {
        "id": "az2Aq3H-cDHl"
      },
      "outputs": [],
      "source": [
        "import segmentation_models_pytorch as smp\n",
        "import matplotlib.pyplot as plt\n",
        "from sklearn.model_selection import train_test_split\n",
        "from torch.utils.data import Dataset, DataLoader\n",
        "import torchvision.transforms.functional as tf\n",
        "from google.colab.patches import cv2_imshow\n",
        "from matplotlib import pyplot as plt\n",
        "from torchvision import transforms\n",
        "from torchsummary import summary\n",
        "import torch.nn.functional as F\n",
        "import torch.optim as optim\n",
        "import albumentations as A\n",
        "from tqdm import tqdm\n",
        "import torch.nn as nn\n",
        "from glob import glob\n",
        "from PIL import Image\n",
        "import pandas as pd\n",
        "import numpy as np\n",
        "import logging\n",
        "import shutil\n",
        "import torch\n",
        "import errno\n",
        "import cv2\n",
        "import os\n",
        "import re"
      ]
    },
    {
      "cell_type": "code",
      "execution_count": null,
      "metadata": {
        "id": "Y92G6-YoaUr-",
        "colab": {
          "base_uri": "https://localhost:8080/"
        },
        "outputId": "b48b8f86-1a04-4020-9961-07a26110ab90"
      },
      "outputs": [
        {
          "output_type": "stream",
          "name": "stdout",
          "text": [
            "/content/drive/MyDrive/COSC6338/Dataset/UAVidToolKit\n",
            "running build_ext\n",
            "/content/drive/MyDrive/COSC6338\n"
          ]
        }
      ],
      "source": [
        "#Setting up the dataset tools in order to work with the dataset.\n",
        "\n",
        "%cd $TOOLKIT\n",
        "!python3 setup.py build_ext --inplace\n",
        "%cd $PROJECT"
      ]
    },
    {
      "cell_type": "markdown",
      "metadata": {
        "id": "ktF9vX4x5b0G"
      },
      "source": [
        "## **Global Parameters for Model**"
      ]
    },
    {
      "cell_type": "markdown",
      "metadata": {
        "id": "8zpfDNm1Ya5u"
      },
      "source": [
        "### Setup of paths for the data subdirectories"
      ]
    },
    {
      "cell_type": "code",
      "execution_count": null,
      "metadata": {
        "id": "BrHS6B9NdU4G"
      },
      "outputs": [],
      "source": [
        "#### DATA FILEPATH SETUP #####\n",
        "TRAIN_DATA = os.path.join(DATASET, 'train')\n",
        "if not os.path.exists(TRAIN_DATA):\n",
        "  print('PATH: {} does not exists'.format(TRAIN_DATA))\n",
        "\n",
        "VAL_DATA = os.path.join(DATASET, 'valid')\n",
        "if not os.path.exists(VAL_DATA):\n",
        "  print('PATH: {} does not exists'.format(VAL_DATA))\n",
        "\n",
        "TEST_DATA = os.path.join(DATASET, 'test')\n",
        "if not os.path.exists(TEST_DATA):\n",
        "  print('PATH: {} does not exists'.format(TEST_DATA))"
      ]
    },
    {
      "cell_type": "markdown",
      "metadata": {
        "id": "3iWh7847YrfI"
      },
      "source": [
        "### Data loading and preprocessing global variables"
      ]
    },
    {
      "cell_type": "code",
      "execution_count": null,
      "metadata": {
        "id": "MltgSQKkPcG3"
      },
      "outputs": [],
      "source": [
        "##### DATA PREPROCESSING GLOBALS #####\n",
        "remove_videos = False \n",
        "find_data_filepaths = False\n",
        "resize_images_masks = False\n",
        "split_into_chips = False\n",
        "save_fp_to_csv = False\n",
        "load_from_csv = True\n",
        "\n",
        "RESIZED_IMAGE_HEIGHT = 1024\n",
        "RESIZED_IMAGE_WIDTH = 2048\n",
        "TARGET_CHIP_SIZE = 256\n",
        "\n"
      ]
    },
    {
      "cell_type": "markdown",
      "metadata": {
        "id": "GjjDLrtUY3xH"
      },
      "source": [
        "### Model training options"
      ]
    },
    {
      "cell_type": "code",
      "execution_count": null,
      "metadata": {
        "id": "0V-Rn6vxZFP1"
      },
      "outputs": [],
      "source": [
        "##### MODEL TRAINING OPTIONS #####\n",
        "model1 = True\n",
        "\n",
        "save_model = True\n",
        "load_model_to_train = False\n",
        "load_model_to_eval = True"
      ]
    },
    {
      "cell_type": "markdown",
      "metadata": {
        "id": "suxOSnZ56oBB"
      },
      "source": [
        "## **Data Preprocessing**\n"
      ]
    },
    {
      "cell_type": "markdown",
      "metadata": {
        "id": "vJNQvMOWXyjM"
      },
      "source": [
        "### Remove superfluous data i.e. videos from dataset"
      ]
    },
    {
      "cell_type": "code",
      "execution_count": null,
      "metadata": {
        "id": "KJd1tuTS6st0"
      },
      "outputs": [],
      "source": [
        "#If videos are in the original dataset, then they need to be moved.\n",
        "#Set setup_dataset_directories to True and execute this cell to move the videos.\n",
        "#This cell only needs to be run once.\n",
        "\n",
        "if remove_videos:\n",
        "  for child in os.scandir(DATASET):\n",
        "    if child.is_dir():\n",
        "        for grandchild in os.scandir(child.path):\n",
        "            os.makedirs(re.sub(r'Dataset/', r'Videos/', grandchild.path))\n",
        "            shutil.move(os.path.join(grandchild.path, 'images.mp4'), os.path.join(re.sub(r'Dataset/', r'Videos/', grandchild.path), 'images.mp4') )"
      ]
    },
    {
      "cell_type": "markdown",
      "metadata": {
        "id": "C-DuzWLk3ch7"
      },
      "source": [
        "### Creating masks from the labels\n",
        "  - No need to run unless the masks are not created"
      ]
    },
    {
      "cell_type": "code",
      "execution_count": null,
      "metadata": {
        "id": "iQQ04ibv-Itv",
        "colab": {
          "base_uri": "https://localhost:8080/"
        },
        "outputId": "f88fd741-35b3-4d6a-a2da-3fee4138d7e2"
      },
      "outputs": [
        {
          "output_type": "stream",
          "name": "stdout",
          "text": [
            "python3: can't open file './Dataset/UAVidToolKit/prepareTrainIdFiles.py': [Errno 2] No such file or directory\n"
          ]
        }
      ],
      "source": [
        "!python3 ./Dataset/UAVidToolKit/prepareTrainIdFiles.py -s ./Dataset/train -t ./Dataset/train_masks"
      ]
    },
    {
      "cell_type": "code",
      "execution_count": null,
      "metadata": {
        "id": "qzmB8KHOw5kW",
        "colab": {
          "base_uri": "https://localhost:8080/"
        },
        "outputId": "cc2a5682-d384-473a-f3e0-2d3fa431f05b"
      },
      "outputs": [
        {
          "output_type": "stream",
          "name": "stdout",
          "text": [
            "Files in /content/drive/MyDrive/COSC6338/Dataset/train_masks 0\n",
            "Files in /content/drive/MyDrive/COSC6338/Dataset/train_masks/seq13 0\n",
            "Files in /content/drive/MyDrive/COSC6338/Dataset/train_masks/seq13/TrainId 10\n",
            "Files in /content/drive/MyDrive/COSC6338/Dataset/train_masks/seq14 0\n",
            "Files in /content/drive/MyDrive/COSC6338/Dataset/train_masks/seq14/TrainId 10\n",
            "Files in /content/drive/MyDrive/COSC6338/Dataset/train_masks/seq7 0\n",
            "Files in /content/drive/MyDrive/COSC6338/Dataset/train_masks/seq7/TrainId 10\n",
            "Files in /content/drive/MyDrive/COSC6338/Dataset/train_masks/seq3 0\n",
            "Files in /content/drive/MyDrive/COSC6338/Dataset/train_masks/seq3/TrainId 10\n",
            "Files in /content/drive/MyDrive/COSC6338/Dataset/train_masks/seq1 0\n",
            "Files in /content/drive/MyDrive/COSC6338/Dataset/train_masks/seq1/TrainId 10\n",
            "Files in /content/drive/MyDrive/COSC6338/Dataset/train_masks/seq8 0\n",
            "Files in /content/drive/MyDrive/COSC6338/Dataset/train_masks/seq8/TrainId 10\n",
            "Files in /content/drive/MyDrive/COSC6338/Dataset/train_masks/seq33 0\n",
            "Files in /content/drive/MyDrive/COSC6338/Dataset/train_masks/seq33/TrainId 10\n",
            "Files in /content/drive/MyDrive/COSC6338/Dataset/train_masks/seq6 0\n",
            "Files in /content/drive/MyDrive/COSC6338/Dataset/train_masks/seq6/TrainId 10\n",
            "Files in /content/drive/MyDrive/COSC6338/Dataset/train_masks/seq15 0\n",
            "Files in /content/drive/MyDrive/COSC6338/Dataset/train_masks/seq15/TrainId 10\n",
            "Files in /content/drive/MyDrive/COSC6338/Dataset/train_masks/seq9 0\n",
            "Files in /content/drive/MyDrive/COSC6338/Dataset/train_masks/seq9/TrainId 10\n",
            "Files in /content/drive/MyDrive/COSC6338/Dataset/train_masks/seq10 0\n",
            "Files in /content/drive/MyDrive/COSC6338/Dataset/train_masks/seq10/TrainId 10\n",
            "Files in /content/drive/MyDrive/COSC6338/Dataset/train_masks/seq35 0\n",
            "Files in /content/drive/MyDrive/COSC6338/Dataset/train_masks/seq35/TrainId 10\n",
            "Files in /content/drive/MyDrive/COSC6338/Dataset/train_masks/seq31 0\n",
            "Files in /content/drive/MyDrive/COSC6338/Dataset/train_masks/seq31/TrainId 10\n",
            "Files in /content/drive/MyDrive/COSC6338/Dataset/train_masks/seq4 0\n",
            "Files in /content/drive/MyDrive/COSC6338/Dataset/train_masks/seq4/TrainId 10\n",
            "Files in /content/drive/MyDrive/COSC6338/Dataset/train_masks/seq11 0\n",
            "Files in /content/drive/MyDrive/COSC6338/Dataset/train_masks/seq11/TrainId 10\n",
            "Files in /content/drive/MyDrive/COSC6338/Dataset/train_masks/seq2 0\n",
            "Files in /content/drive/MyDrive/COSC6338/Dataset/train_masks/seq2/TrainId 10\n",
            "Files in /content/drive/MyDrive/COSC6338/Dataset/train_masks/seq32 0\n",
            "Files in /content/drive/MyDrive/COSC6338/Dataset/train_masks/seq32/TrainId 10\n",
            "Files in /content/drive/MyDrive/COSC6338/Dataset/train_masks/seq12 0\n",
            "Files in /content/drive/MyDrive/COSC6338/Dataset/train_masks/seq12/TrainId 10\n",
            "Files in /content/drive/MyDrive/COSC6338/Dataset/train_masks/seq5 0\n",
            "Files in /content/drive/MyDrive/COSC6338/Dataset/train_masks/seq5/TrainId 10\n",
            "Files in /content/drive/MyDrive/COSC6338/Dataset/train_masks/seq34 0\n",
            "Files in /content/drive/MyDrive/COSC6338/Dataset/train_masks/seq34/TrainId 10\n",
            "200\n"
          ]
        }
      ],
      "source": [
        "num = 0\n",
        "for dir, sub, files in os.walk(os.path.join(DATASET, 'train_masks')):\n",
        "  num += len(files)\n",
        "  print(\"Files in\", dir, len(files))\n",
        "\n",
        "print(num)"
      ]
    },
    {
      "cell_type": "code",
      "execution_count": null,
      "metadata": {
        "id": "SOz5VSuC__cS",
        "colab": {
          "base_uri": "https://localhost:8080/"
        },
        "outputId": "9c97a096-20a1-4c64-a83c-0ac5e5aaa72a"
      },
      "outputs": [
        {
          "output_type": "stream",
          "name": "stdout",
          "text": [
            "python3: can't open file './Dataset/UAVidToolKit/prepareTrainIdFiles.py': [Errno 2] No such file or directory\n"
          ]
        }
      ],
      "source": [
        "!python3 ./Dataset/UAVidToolKit/prepareTrainIdFiles.py -s ./Dataset/valid -t ./Dataset/valid_masks"
      ]
    },
    {
      "cell_type": "code",
      "execution_count": null,
      "metadata": {
        "id": "NYdnZ_BLt6UO",
        "colab": {
          "base_uri": "https://localhost:8080/"
        },
        "outputId": "f56c21ed-e0ee-46ee-d1b8-ca7c9b6d9911"
      },
      "outputs": [
        {
          "output_type": "stream",
          "name": "stdout",
          "text": [
            "Files in /content/drive/MyDrive/COSC6338/Dataset/valid_masks 0\n",
            "Files in /content/drive/MyDrive/COSC6338/Dataset/valid_masks/seq36 0\n",
            "Files in /content/drive/MyDrive/COSC6338/Dataset/valid_masks/seq36/TrainId 10\n",
            "Files in /content/drive/MyDrive/COSC6338/Dataset/valid_masks/seq19 0\n",
            "Files in /content/drive/MyDrive/COSC6338/Dataset/valid_masks/seq19/TrainId 10\n",
            "Files in /content/drive/MyDrive/COSC6338/Dataset/valid_masks/seq16 0\n",
            "Files in /content/drive/MyDrive/COSC6338/Dataset/valid_masks/seq16/TrainId 10\n",
            "Files in /content/drive/MyDrive/COSC6338/Dataset/valid_masks/seq20 0\n",
            "Files in /content/drive/MyDrive/COSC6338/Dataset/valid_masks/seq20/TrainId 10\n",
            "Files in /content/drive/MyDrive/COSC6338/Dataset/valid_masks/seq18 0\n",
            "Files in /content/drive/MyDrive/COSC6338/Dataset/valid_masks/seq18/TrainId 10\n",
            "Files in /content/drive/MyDrive/COSC6338/Dataset/valid_masks/seq37 0\n",
            "Files in /content/drive/MyDrive/COSC6338/Dataset/valid_masks/seq37/TrainId 10\n",
            "Files in /content/drive/MyDrive/COSC6338/Dataset/valid_masks/seq17 0\n",
            "Files in /content/drive/MyDrive/COSC6338/Dataset/valid_masks/seq17/TrainId 10\n",
            "70\n"
          ]
        }
      ],
      "source": [
        "num = 0\n",
        "for dir, sub, files in os.walk(os.path.join(DATASET, 'valid_masks')):\n",
        "  num += len(files)\n",
        "  print(\"Files in\", dir, len(files))\n",
        "\n",
        "print(num)"
      ]
    },
    {
      "cell_type": "markdown",
      "metadata": {
        "id": "bDxJ93GqEt2Q"
      },
      "source": [
        "### Determining the filepaths of the images and their masks"
      ]
    },
    {
      "cell_type": "code",
      "execution_count": null,
      "metadata": {
        "id": "K_NQW5QrE8VA"
      },
      "outputs": [],
      "source": [
        "def find_images_masks_paths(dir_path, old_path, mask_path, image_list, mask_list):\n",
        "  for child in os.scandir(dir_path):\n",
        "    image_dir = os.path.join(child.path, 'Images')\n",
        "    mask_dir = re.sub(old_path, mask_path, child.path)\n",
        "    mask_dir = os.path.join(mask_dir, 'TrainId')\n",
        "\n",
        "    image_list.extend(glob(os.path.join(image_dir, '*.png')))\n",
        "    mask_list.extend(glob(os.path.join(mask_dir, '*.png')))\n",
        "\n",
        "if find_data_filepaths:\n",
        "\n",
        "  images, masks = [], []\n",
        "\n",
        "  find_images_masks_paths(TRAIN_DATA, 'train/', 'train_masks/', images, masks)\n",
        "  find_images_masks_paths(VAL_DATA, 'valid/', 'valid_masks/', images, masks)\n",
        "\n",
        "  images.sort()\n",
        "  masks.sort()\n",
        "\n",
        "  filepath_df = pd.DataFrame(list(zip(images, masks)), columns=['Images', 'Masks'])\n",
        "\n",
        "  filepath_df"
      ]
    },
    {
      "cell_type": "markdown",
      "metadata": {
        "id": "2smN7Au33mw9"
      },
      "source": [
        "### Resizing Images and Masks so that all are a consistent size"
      ]
    },
    {
      "cell_type": "code",
      "execution_count": null,
      "metadata": {
        "id": "XCyNk0UC31B4"
      },
      "outputs": [],
      "source": [
        "if resize_images_masks:\n",
        "\n",
        "  RESIZED_IMAGE_DIR = os.path.join(DATASET, 'Resized_Imgs')\n",
        "  RESIZED_MASKS_DIR = os.path.join(DATASET, 'Resized_Masks')\n",
        "\n",
        "  if not os.path.exists(RESIZED_IMAGE_DIR):\n",
        "    os.mkdir(RESIZED_IMAGE_DIR)\n",
        "\n",
        "  if not os.path.exists(RESIZED_MASKS_DIR):\n",
        "    os.mkdir(RESIZED_MASKS_DIR)\n",
        "\n",
        "  for item in tqdm(filepath_df.itertuples()):\n",
        "    filename = os.path.basename(item[1])\n",
        "    seq = re.search(r'(seq[0-9]*)', item[1])[0]\n",
        "\n",
        "    assert filename == os.path.basename(item[2]) and seq == re.search(r'(seq[0-9]*)', item[2])[0], \"The image path and mask path differ\"\n",
        "\n",
        "    image = cv2.imread(item[1])\n",
        "    mask = cv2.imread(item[2], cv2.IMREAD_UNCHANGED)\n",
        "\n",
        "    image = cv2.resize(image, (RESIZED_IMAGE_WIDTH, RESIZED_IMAGE_HEIGHT), cv2.INTER_AREA)\n",
        "    mask = cv2.resize(mask, (RESIZED_IMAGE_WIDTH, RESIZED_IMAGE_HEIGHT), cv2.INTER_NEAREST)\n",
        "  \n",
        "    cv2.imwrite(os.path.join(RESIZED_IMAGE_DIR, '{}_{}'.format(seq, filename)), image)\n",
        "    cv2.imwrite(os.path.join(RESIZED_MASKS_DIR, '{}_{}'.format(seq, filename)), mask)\n",
        "\n"
      ]
    },
    {
      "cell_type": "markdown",
      "source": [
        "### Function to load image filepaths and mask filepaths into dataframes"
      ],
      "metadata": {
        "id": "nRxLdVTSW1tl"
      }
    },
    {
      "cell_type": "code",
      "source": [
        "def load_dataframe(img_dir, mask_dir):\n",
        "  img_paths = glob(os.path.join(img_dir, '*.png'))\n",
        "  mask_paths = glob(os.path.join(mask_dir, '*.png'))\n",
        "\n",
        "  img_paths.sort()\n",
        "  mask_paths.sort()\n",
        "\n",
        "  filepath_df = pd.DataFrame(list(zip(img_paths, mask_paths)), columns=['Images', 'Masks'])\n",
        "\n",
        "  return filepath_df"
      ],
      "metadata": {
        "id": "mLjacnuZXFBr"
      },
      "execution_count": null,
      "outputs": []
    },
    {
      "cell_type": "markdown",
      "metadata": {
        "id": "lCFwgvP4j2Zv"
      },
      "source": [
        "### Splitting the Images and Masks into Chips"
      ]
    },
    {
      "cell_type": "code",
      "execution_count": null,
      "metadata": {
        "id": "K-v7HUcqmXrN"
      },
      "outputs": [],
      "source": [
        "if split_into_chips:\n",
        "\n",
        "  IMGS_DIR = os.path.join(DATASET, 'Resized_Imgs')\n",
        "  MASKS_DIR = os.path.join(DATASET, 'Resized_Masks')\n",
        "\n",
        "  filepath_df = load_dataframe(IMGS_DIR, MASKS_DIR)\n",
        "  \n",
        "  print(filepath_df)"
      ]
    },
    {
      "cell_type": "code",
      "execution_count": null,
      "metadata": {
        "id": "z-NKFidlkA6S"
      },
      "outputs": [],
      "source": [
        "IMG_CHIPS_DIR = os.path.join(DATASET, 'Img_Chips')\n",
        "MASKS_CHIPS_DIR = os.path.join(DATASET, 'Masks_Chips')\n",
        "\n",
        "if split_into_chips:\n",
        "\n",
        "  if not os.path.exists(IMG_CHIPS_DIR):\n",
        "    os.mkdir(IMG_CHIPS_DIR)\n",
        "\n",
        "  if not os.path.exists(MASKS_CHIPS_DIR):\n",
        "    os.mkdir(MASKS_CHIPS_DIR)\n",
        "\n",
        "  for item in tqdm(filepath_df.itertuples()):\n",
        "    img_filename = os.path.splitext(os.path.basename(item[1]))[0]\n",
        "    mask_filename = os.path.splitext(os.path.basename(item[2]))[0]\n",
        "\n",
        "    img = cv2.imread(item[1])\n",
        "    mask = cv2.imread(item[2], cv2.IMREAD_UNCHANGED)\n",
        "\n",
        "    assert img_filename == mask_filename and img.shape[:2] == mask.shape[:2], \"Either the Image's filename != the Mask's filename or the Image's dim != the Mask's dim.\"\n",
        "\n",
        "    chip_num = 0\n",
        "    for y in range(0, img.shape[0], TARGET_CHIP_SIZE):\n",
        "      for x in range(0, img.shape[1], TARGET_CHIP_SIZE):\n",
        "        img_chip = img[y:y + TARGET_CHIP_SIZE, x:x + TARGET_CHIP_SIZE]\n",
        "        mask_chip = mask[y:y + TARGET_CHIP_SIZE, x:x + TARGET_CHIP_SIZE]\n",
        "\n",
        "        if img_chip.shape[0] == TARGET_CHIP_SIZE and img_chip.shape[1] == TARGET_CHIP_SIZE:\n",
        "          out_img_chip_path = os.path.join(IMG_CHIPS_DIR, \"{}_{}.png\".format(img_filename, chip_num))\n",
        "          cv2.imwrite(out_img_chip_path, img_chip)\n",
        "\n",
        "          out_img_chip_path = os.path.join(MASKS_CHIPS_DIR, \"{}_{}.png\".format(mask_filename, chip_num))\n",
        "          cv2.imwrite(out_img_chip_path, mask_chip)\n",
        "        chip_num +=1\n",
        "\n",
        "if save_fp_to_csv:\n",
        "  chips_df = load_dataframe(IMG_CHIPS_DIR, MASKS_CHIPS_DIR)\n",
        "  chips_df.to_csv(os.path.join(DATASET, \"chips.csv\"))"
      ]
    },
    {
      "cell_type": "markdown",
      "metadata": {
        "id": "aJ-Lqo9ZB8o6"
      },
      "source": [
        "## **UNET Model**"
      ]
    },
    {
      "cell_type": "markdown",
      "metadata": {
        "id": "x0P6DbwEsL6U"
      },
      "source": [
        "### Custom Dataclass Definition"
      ]
    },
    {
      "cell_type": "code",
      "execution_count": null,
      "metadata": {
        "id": "yiPCFJYhsSZh"
      },
      "outputs": [],
      "source": [
        "class UAVidDataset(Dataset):\n",
        "  \n",
        "  def __init__(self, df, transform=None):\n",
        "    self.df = df\n",
        "\n",
        "    assert self.df.shape[1] == 2, 'The dataframe should only contain two columns: Images and Masks'\n",
        "\n",
        "    self.transform = transform\n",
        "  \n",
        "  def __getitem__(self, index):\n",
        "    image_file = self.df.iloc[index, 0]\n",
        "    mask_file = self.df.iloc[index, 1]\n",
        "\n",
        "    image = cv2.imread(image_file)\n",
        "    image = cv2.cvtColor(image, cv2.COLOR_BGR2RGB)\n",
        "    mask = cv2.imread(mask_file, cv2.IMREAD_UNCHANGED)\n",
        "    image = image.astype('uint8')\n",
        "\n",
        "    if self.transform is not None:\n",
        "      transformed = self.transform(image=image, mask=mask)\n",
        "      image = transformed[\"image\"]\n",
        "      mask = transformed[\"mask\"]\n",
        "\n",
        "      image = torch.from_numpy(image)\n",
        "      mask = torch.from_numpy(mask)\n",
        "\n",
        "      image = image.permute(2, 0, 1)\n",
        "      image = image.float()/255\n",
        "\n",
        "      mask = mask.long().unsqueeze(0)\n",
        "    else:\n",
        "      image = torch.from_numpy(image)\n",
        "      mask = torch.from_numpy(mask)\n",
        "\n",
        "      image = image.permute(2, 0, 1)\n",
        "      image = image.float()/255\n",
        "\n",
        "      mask = mask.long().unsqueeze(0)\n",
        "    \n",
        "    return image, mask\n",
        "  \n",
        "  def __len__(self):\n",
        "    return len(self.df)"
      ]
    },
    {
      "cell_type": "markdown",
      "metadata": {
        "id": "WaTqMtxusHgi"
      },
      "source": [
        "### Model Definition"
      ]
    },
    {
      "cell_type": "code",
      "execution_count": null,
      "metadata": {
        "id": "FSAFKzZRCC0j"
      },
      "outputs": [],
      "source": [
        "class UNET(nn.Module):\n",
        "\n",
        "    def __init__(self, in_channels=3, classes=8, layer_channels=[64, 128, 256, 512, 1024]):\n",
        "        super(UNET, self).__init__()\n",
        "\n",
        "        layer_channels.insert(0, in_channels)\n",
        "\n",
        "        self.layers = layer_channels\n",
        "\n",
        "        self.double_conv_downs = nn.ModuleList(\n",
        "            [self.__double_conv(layer, layer_n) for layer, layer_n in zip(self.layers[:-1], self.layers[1:])])\n",
        "\n",
        "        self.up_trans = nn.ModuleList(\n",
        "            [nn.ConvTranspose2d(layer, layer_n, kernel_size=2, stride=2)\n",
        "             for layer, layer_n in zip(self.layers[::-1][:-2], self.layers[::-1][1:-1])])\n",
        "\n",
        "        self.double_conv_ups = nn.ModuleList(\n",
        "            [self.__double_conv(layer, layer // 2) for layer in self.layers[::-1][:-2]])\n",
        "\n",
        "        self.max_pool_2x2 = nn.MaxPool2d(kernel_size=2, stride=2)\n",
        "\n",
        "        self.final_conv = nn.Conv2d(64, classes, kernel_size=1)\n",
        "\n",
        "    def __double_conv(self, in_channels, out_channels):\n",
        "        conv = nn.Sequential(\n",
        "            nn.Conv2d(in_channels, out_channels, kernel_size=3, padding=1, bias=False),\n",
        "            nn.BatchNorm2d(out_channels), # added for precision\n",
        "            nn.ReLU(inplace=True),\n",
        "            nn.Conv2d(out_channels, out_channels, kernel_size=3, padding=1),\n",
        "            nn.ReLU(inplace=True)\n",
        "        )\n",
        "        return conv\n",
        "\n",
        "    def forward(self, x):\n",
        "        # down layers\n",
        "        concat_layers = []\n",
        "\n",
        "        for down in self.double_conv_downs:\n",
        "            x = down(x)\n",
        "            if down != self.double_conv_downs[-1]:\n",
        "                concat_layers.append(x)\n",
        "                x = self.max_pool_2x2(x)\n",
        "\n",
        "        concat_layers = concat_layers[::-1]\n",
        "\n",
        "        # up layers\n",
        "        for up_trans, double_conv_up, concat_layer in zip(self.up_trans, self.double_conv_ups, concat_layers):\n",
        "            x = up_trans(x)\n",
        "            if x.shape != concat_layer.shape:\n",
        "                x = tf.resize(x, concat_layer.shape[2:])\n",
        "\n",
        "            concatenated = torch.cat((concat_layer, x), dim=1)\n",
        "            x = double_conv_up(concatenated)\n",
        "\n",
        "        x = self.final_conv(x)\n",
        "\n",
        "        return x\n",
        "\n",
        "    @torch.no_grad()\n",
        "    def predict(self, x):\n",
        "      x = self.forward(x)\n",
        "      return x\n"
      ]
    },
    {
      "cell_type": "markdown",
      "source": [
        "## **Data Loading**"
      ],
      "metadata": {
        "id": "lwrZUxjJCiNZ"
      }
    },
    {
      "cell_type": "markdown",
      "source": [
        "### Data Loading Options"
      ],
      "metadata": {
        "id": "ixIpzlh5C-KI"
      }
    },
    {
      "cell_type": "code",
      "source": [
        "#Data Loading Options\n",
        "seed = 42\n",
        "test_data_size = 0.1\n",
        "shuffle_data = True\n",
        "batch_size = 16"
      ],
      "metadata": {
        "id": "GPAwUFq7DBpr"
      },
      "execution_count": null,
      "outputs": []
    },
    {
      "cell_type": "markdown",
      "metadata": {
        "id": "AicJGeqC0T4p"
      },
      "source": [
        "### Load Chip Filepaths fro CSV"
      ]
    },
    {
      "cell_type": "code",
      "execution_count": null,
      "metadata": {
        "id": "cWeHpBd70_FE",
        "colab": {
          "base_uri": "https://localhost:8080/",
          "height": 424
        },
        "outputId": "33809e8e-56d0-48ab-bd4d-810925601b80"
      },
      "outputs": [
        {
          "output_type": "execute_result",
          "data": {
            "text/plain": [
              "                                                 Images  \\\n",
              "0     /content/drive/MyDrive/COSC6338/Dataset/Img_Ch...   \n",
              "1     /content/drive/MyDrive/COSC6338/Dataset/Img_Ch...   \n",
              "2     /content/drive/MyDrive/COSC6338/Dataset/Img_Ch...   \n",
              "3     /content/drive/MyDrive/COSC6338/Dataset/Img_Ch...   \n",
              "4     /content/drive/MyDrive/COSC6338/Dataset/Img_Ch...   \n",
              "...                                                 ...   \n",
              "8635  /content/drive/MyDrive/COSC6338/Dataset/Img_Ch...   \n",
              "8636  /content/drive/MyDrive/COSC6338/Dataset/Img_Ch...   \n",
              "8637  /content/drive/MyDrive/COSC6338/Dataset/Img_Ch...   \n",
              "8638  /content/drive/MyDrive/COSC6338/Dataset/Img_Ch...   \n",
              "8639  /content/drive/MyDrive/COSC6338/Dataset/Img_Ch...   \n",
              "\n",
              "                                                  Masks  \n",
              "0     /content/drive/MyDrive/COSC6338/Dataset/Masks_...  \n",
              "1     /content/drive/MyDrive/COSC6338/Dataset/Masks_...  \n",
              "2     /content/drive/MyDrive/COSC6338/Dataset/Masks_...  \n",
              "3     /content/drive/MyDrive/COSC6338/Dataset/Masks_...  \n",
              "4     /content/drive/MyDrive/COSC6338/Dataset/Masks_...  \n",
              "...                                                 ...  \n",
              "8635  /content/drive/MyDrive/COSC6338/Dataset/Masks_...  \n",
              "8636  /content/drive/MyDrive/COSC6338/Dataset/Masks_...  \n",
              "8637  /content/drive/MyDrive/COSC6338/Dataset/Masks_...  \n",
              "8638  /content/drive/MyDrive/COSC6338/Dataset/Masks_...  \n",
              "8639  /content/drive/MyDrive/COSC6338/Dataset/Masks_...  \n",
              "\n",
              "[8640 rows x 2 columns]"
            ],
            "text/html": [
              "\n",
              "  <div id=\"df-d26d9119-deff-4b64-a973-f27e7f9647ea\">\n",
              "    <div class=\"colab-df-container\">\n",
              "      <div>\n",
              "<style scoped>\n",
              "    .dataframe tbody tr th:only-of-type {\n",
              "        vertical-align: middle;\n",
              "    }\n",
              "\n",
              "    .dataframe tbody tr th {\n",
              "        vertical-align: top;\n",
              "    }\n",
              "\n",
              "    .dataframe thead th {\n",
              "        text-align: right;\n",
              "    }\n",
              "</style>\n",
              "<table border=\"1\" class=\"dataframe\">\n",
              "  <thead>\n",
              "    <tr style=\"text-align: right;\">\n",
              "      <th></th>\n",
              "      <th>Images</th>\n",
              "      <th>Masks</th>\n",
              "    </tr>\n",
              "  </thead>\n",
              "  <tbody>\n",
              "    <tr>\n",
              "      <th>0</th>\n",
              "      <td>/content/drive/MyDrive/COSC6338/Dataset/Img_Ch...</td>\n",
              "      <td>/content/drive/MyDrive/COSC6338/Dataset/Masks_...</td>\n",
              "    </tr>\n",
              "    <tr>\n",
              "      <th>1</th>\n",
              "      <td>/content/drive/MyDrive/COSC6338/Dataset/Img_Ch...</td>\n",
              "      <td>/content/drive/MyDrive/COSC6338/Dataset/Masks_...</td>\n",
              "    </tr>\n",
              "    <tr>\n",
              "      <th>2</th>\n",
              "      <td>/content/drive/MyDrive/COSC6338/Dataset/Img_Ch...</td>\n",
              "      <td>/content/drive/MyDrive/COSC6338/Dataset/Masks_...</td>\n",
              "    </tr>\n",
              "    <tr>\n",
              "      <th>3</th>\n",
              "      <td>/content/drive/MyDrive/COSC6338/Dataset/Img_Ch...</td>\n",
              "      <td>/content/drive/MyDrive/COSC6338/Dataset/Masks_...</td>\n",
              "    </tr>\n",
              "    <tr>\n",
              "      <th>4</th>\n",
              "      <td>/content/drive/MyDrive/COSC6338/Dataset/Img_Ch...</td>\n",
              "      <td>/content/drive/MyDrive/COSC6338/Dataset/Masks_...</td>\n",
              "    </tr>\n",
              "    <tr>\n",
              "      <th>...</th>\n",
              "      <td>...</td>\n",
              "      <td>...</td>\n",
              "    </tr>\n",
              "    <tr>\n",
              "      <th>8635</th>\n",
              "      <td>/content/drive/MyDrive/COSC6338/Dataset/Img_Ch...</td>\n",
              "      <td>/content/drive/MyDrive/COSC6338/Dataset/Masks_...</td>\n",
              "    </tr>\n",
              "    <tr>\n",
              "      <th>8636</th>\n",
              "      <td>/content/drive/MyDrive/COSC6338/Dataset/Img_Ch...</td>\n",
              "      <td>/content/drive/MyDrive/COSC6338/Dataset/Masks_...</td>\n",
              "    </tr>\n",
              "    <tr>\n",
              "      <th>8637</th>\n",
              "      <td>/content/drive/MyDrive/COSC6338/Dataset/Img_Ch...</td>\n",
              "      <td>/content/drive/MyDrive/COSC6338/Dataset/Masks_...</td>\n",
              "    </tr>\n",
              "    <tr>\n",
              "      <th>8638</th>\n",
              "      <td>/content/drive/MyDrive/COSC6338/Dataset/Img_Ch...</td>\n",
              "      <td>/content/drive/MyDrive/COSC6338/Dataset/Masks_...</td>\n",
              "    </tr>\n",
              "    <tr>\n",
              "      <th>8639</th>\n",
              "      <td>/content/drive/MyDrive/COSC6338/Dataset/Img_Ch...</td>\n",
              "      <td>/content/drive/MyDrive/COSC6338/Dataset/Masks_...</td>\n",
              "    </tr>\n",
              "  </tbody>\n",
              "</table>\n",
              "<p>8640 rows × 2 columns</p>\n",
              "</div>\n",
              "      <button class=\"colab-df-convert\" onclick=\"convertToInteractive('df-d26d9119-deff-4b64-a973-f27e7f9647ea')\"\n",
              "              title=\"Convert this dataframe to an interactive table.\"\n",
              "              style=\"display:none;\">\n",
              "        \n",
              "  <svg xmlns=\"http://www.w3.org/2000/svg\" height=\"24px\"viewBox=\"0 0 24 24\"\n",
              "       width=\"24px\">\n",
              "    <path d=\"M0 0h24v24H0V0z\" fill=\"none\"/>\n",
              "    <path d=\"M18.56 5.44l.94 2.06.94-2.06 2.06-.94-2.06-.94-.94-2.06-.94 2.06-2.06.94zm-11 1L8.5 8.5l.94-2.06 2.06-.94-2.06-.94L8.5 2.5l-.94 2.06-2.06.94zm10 10l.94 2.06.94-2.06 2.06-.94-2.06-.94-.94-2.06-.94 2.06-2.06.94z\"/><path d=\"M17.41 7.96l-1.37-1.37c-.4-.4-.92-.59-1.43-.59-.52 0-1.04.2-1.43.59L10.3 9.45l-7.72 7.72c-.78.78-.78 2.05 0 2.83L4 21.41c.39.39.9.59 1.41.59.51 0 1.02-.2 1.41-.59l7.78-7.78 2.81-2.81c.8-.78.8-2.07 0-2.86zM5.41 20L4 18.59l7.72-7.72 1.47 1.35L5.41 20z\"/>\n",
              "  </svg>\n",
              "      </button>\n",
              "      \n",
              "  <style>\n",
              "    .colab-df-container {\n",
              "      display:flex;\n",
              "      flex-wrap:wrap;\n",
              "      gap: 12px;\n",
              "    }\n",
              "\n",
              "    .colab-df-convert {\n",
              "      background-color: #E8F0FE;\n",
              "      border: none;\n",
              "      border-radius: 50%;\n",
              "      cursor: pointer;\n",
              "      display: none;\n",
              "      fill: #1967D2;\n",
              "      height: 32px;\n",
              "      padding: 0 0 0 0;\n",
              "      width: 32px;\n",
              "    }\n",
              "\n",
              "    .colab-df-convert:hover {\n",
              "      background-color: #E2EBFA;\n",
              "      box-shadow: 0px 1px 2px rgba(60, 64, 67, 0.3), 0px 1px 3px 1px rgba(60, 64, 67, 0.15);\n",
              "      fill: #174EA6;\n",
              "    }\n",
              "\n",
              "    [theme=dark] .colab-df-convert {\n",
              "      background-color: #3B4455;\n",
              "      fill: #D2E3FC;\n",
              "    }\n",
              "\n",
              "    [theme=dark] .colab-df-convert:hover {\n",
              "      background-color: #434B5C;\n",
              "      box-shadow: 0px 1px 3px 1px rgba(0, 0, 0, 0.15);\n",
              "      filter: drop-shadow(0px 1px 2px rgba(0, 0, 0, 0.3));\n",
              "      fill: #FFFFFF;\n",
              "    }\n",
              "  </style>\n",
              "\n",
              "      <script>\n",
              "        const buttonEl =\n",
              "          document.querySelector('#df-d26d9119-deff-4b64-a973-f27e7f9647ea button.colab-df-convert');\n",
              "        buttonEl.style.display =\n",
              "          google.colab.kernel.accessAllowed ? 'block' : 'none';\n",
              "\n",
              "        async function convertToInteractive(key) {\n",
              "          const element = document.querySelector('#df-d26d9119-deff-4b64-a973-f27e7f9647ea');\n",
              "          const dataTable =\n",
              "            await google.colab.kernel.invokeFunction('convertToInteractive',\n",
              "                                                     [key], {});\n",
              "          if (!dataTable) return;\n",
              "\n",
              "          const docLinkHtml = 'Like what you see? Visit the ' +\n",
              "            '<a target=\"_blank\" href=https://colab.research.google.com/notebooks/data_table.ipynb>data table notebook</a>'\n",
              "            + ' to learn more about interactive tables.';\n",
              "          element.innerHTML = '';\n",
              "          dataTable['output_type'] = 'display_data';\n",
              "          await google.colab.output.renderOutput(dataTable, element);\n",
              "          const docLink = document.createElement('div');\n",
              "          docLink.innerHTML = docLinkHtml;\n",
              "          element.appendChild(docLink);\n",
              "        }\n",
              "      </script>\n",
              "    </div>\n",
              "  </div>\n",
              "  "
            ]
          },
          "metadata": {},
          "execution_count": 89
        }
      ],
      "source": [
        "chips_df = None\n",
        "if load_from_csv:\n",
        "  chips_df = pd.read_csv(os.path.join(DATASET, \"chips.csv\"))\n",
        "  chips_df.drop([\"Unnamed: 0\"], inplace=True, axis=1)\n",
        "else:\n",
        "  chips_df = load_dataframe(IMG_CHIPS_DIR, MASKS_CHIPS_DIR)\n",
        "\n",
        "assert chips_df is not None, 'Chips_df must be created first and loaded with the filepaths of the images and masks'\n",
        "chips_df"
      ]
    },
    {
      "cell_type": "markdown",
      "source": [
        "### Split Dataset into Train, Valid, Test sets"
      ],
      "metadata": {
        "id": "AF-2Zf1qa49q"
      }
    },
    {
      "cell_type": "code",
      "source": [
        "train_df, test_df = train_test_split(chips_df, test_size=test_data_size, random_state=seed, shuffle=shuffle_data)\n",
        "\n",
        "train_df, val_df = train_test_split(train_df, test_size=test_data_size, random_state=seed, shuffle=shuffle_data)\n",
        "\n",
        "train_df"
      ],
      "metadata": {
        "id": "78CJ9I7DbCYg",
        "colab": {
          "base_uri": "https://localhost:8080/",
          "height": 1000
        },
        "outputId": "00134c7c-7904-45cb-f842-5f77a8746b36"
      },
      "execution_count": null,
      "outputs": [
        {
          "output_type": "execute_result",
          "data": {
            "text/plain": [
              "                                                 Images  \\\n",
              "2881  /content/drive/MyDrive/COSC6338/Dataset/Img_Ch...   \n",
              "6353  /content/drive/MyDrive/COSC6338/Dataset/Img_Ch...   \n",
              "1966  /content/drive/MyDrive/COSC6338/Dataset/Img_Ch...   \n",
              "1696  /content/drive/MyDrive/COSC6338/Dataset/Img_Ch...   \n",
              "8610  /content/drive/MyDrive/COSC6338/Dataset/Img_Ch...   \n",
              "...                                                 ...   \n",
              "3883  /content/drive/MyDrive/COSC6338/Dataset/Img_Ch...   \n",
              "2390  /content/drive/MyDrive/COSC6338/Dataset/Img_Ch...   \n",
              "491   /content/drive/MyDrive/COSC6338/Dataset/Img_Ch...   \n",
              "2327  /content/drive/MyDrive/COSC6338/Dataset/Img_Ch...   \n",
              "3236  /content/drive/MyDrive/COSC6338/Dataset/Img_Ch...   \n",
              "\n",
              "                                                  Masks  \n",
              "2881  /content/drive/MyDrive/COSC6338/Dataset/Masks_...  \n",
              "6353  /content/drive/MyDrive/COSC6338/Dataset/Masks_...  \n",
              "1966  /content/drive/MyDrive/COSC6338/Dataset/Masks_...  \n",
              "1696  /content/drive/MyDrive/COSC6338/Dataset/Masks_...  \n",
              "8610  /content/drive/MyDrive/COSC6338/Dataset/Masks_...  \n",
              "...                                                 ...  \n",
              "3883  /content/drive/MyDrive/COSC6338/Dataset/Masks_...  \n",
              "2390  /content/drive/MyDrive/COSC6338/Dataset/Masks_...  \n",
              "491   /content/drive/MyDrive/COSC6338/Dataset/Masks_...  \n",
              "2327  /content/drive/MyDrive/COSC6338/Dataset/Masks_...  \n",
              "3236  /content/drive/MyDrive/COSC6338/Dataset/Masks_...  \n",
              "\n",
              "[6998 rows x 2 columns]"
            ],
            "text/html": [
              "\n",
              "  <div id=\"df-c88c81a0-0266-43a1-8922-fbefdc467b78\">\n",
              "    <div class=\"colab-df-container\">\n",
              "      <div>\n",
              "<style scoped>\n",
              "    .dataframe tbody tr th:only-of-type {\n",
              "        vertical-align: middle;\n",
              "    }\n",
              "\n",
              "    .dataframe tbody tr th {\n",
              "        vertical-align: top;\n",
              "    }\n",
              "\n",
              "    .dataframe thead th {\n",
              "        text-align: right;\n",
              "    }\n",
              "</style>\n",
              "<table border=\"1\" class=\"dataframe\">\n",
              "  <thead>\n",
              "    <tr style=\"text-align: right;\">\n",
              "      <th></th>\n",
              "      <th>Images</th>\n",
              "      <th>Masks</th>\n",
              "    </tr>\n",
              "  </thead>\n",
              "  <tbody>\n",
              "    <tr>\n",
              "      <th>2881</th>\n",
              "      <td>/content/drive/MyDrive/COSC6338/Dataset/Img_Ch...</td>\n",
              "      <td>/content/drive/MyDrive/COSC6338/Dataset/Masks_...</td>\n",
              "    </tr>\n",
              "    <tr>\n",
              "      <th>6353</th>\n",
              "      <td>/content/drive/MyDrive/COSC6338/Dataset/Img_Ch...</td>\n",
              "      <td>/content/drive/MyDrive/COSC6338/Dataset/Masks_...</td>\n",
              "    </tr>\n",
              "    <tr>\n",
              "      <th>1966</th>\n",
              "      <td>/content/drive/MyDrive/COSC6338/Dataset/Img_Ch...</td>\n",
              "      <td>/content/drive/MyDrive/COSC6338/Dataset/Masks_...</td>\n",
              "    </tr>\n",
              "    <tr>\n",
              "      <th>1696</th>\n",
              "      <td>/content/drive/MyDrive/COSC6338/Dataset/Img_Ch...</td>\n",
              "      <td>/content/drive/MyDrive/COSC6338/Dataset/Masks_...</td>\n",
              "    </tr>\n",
              "    <tr>\n",
              "      <th>8610</th>\n",
              "      <td>/content/drive/MyDrive/COSC6338/Dataset/Img_Ch...</td>\n",
              "      <td>/content/drive/MyDrive/COSC6338/Dataset/Masks_...</td>\n",
              "    </tr>\n",
              "    <tr>\n",
              "      <th>...</th>\n",
              "      <td>...</td>\n",
              "      <td>...</td>\n",
              "    </tr>\n",
              "    <tr>\n",
              "      <th>3883</th>\n",
              "      <td>/content/drive/MyDrive/COSC6338/Dataset/Img_Ch...</td>\n",
              "      <td>/content/drive/MyDrive/COSC6338/Dataset/Masks_...</td>\n",
              "    </tr>\n",
              "    <tr>\n",
              "      <th>2390</th>\n",
              "      <td>/content/drive/MyDrive/COSC6338/Dataset/Img_Ch...</td>\n",
              "      <td>/content/drive/MyDrive/COSC6338/Dataset/Masks_...</td>\n",
              "    </tr>\n",
              "    <tr>\n",
              "      <th>491</th>\n",
              "      <td>/content/drive/MyDrive/COSC6338/Dataset/Img_Ch...</td>\n",
              "      <td>/content/drive/MyDrive/COSC6338/Dataset/Masks_...</td>\n",
              "    </tr>\n",
              "    <tr>\n",
              "      <th>2327</th>\n",
              "      <td>/content/drive/MyDrive/COSC6338/Dataset/Img_Ch...</td>\n",
              "      <td>/content/drive/MyDrive/COSC6338/Dataset/Masks_...</td>\n",
              "    </tr>\n",
              "    <tr>\n",
              "      <th>3236</th>\n",
              "      <td>/content/drive/MyDrive/COSC6338/Dataset/Img_Ch...</td>\n",
              "      <td>/content/drive/MyDrive/COSC6338/Dataset/Masks_...</td>\n",
              "    </tr>\n",
              "  </tbody>\n",
              "</table>\n",
              "<p>6998 rows × 2 columns</p>\n",
              "</div>\n",
              "      <button class=\"colab-df-convert\" onclick=\"convertToInteractive('df-c88c81a0-0266-43a1-8922-fbefdc467b78')\"\n",
              "              title=\"Convert this dataframe to an interactive table.\"\n",
              "              style=\"display:none;\">\n",
              "        \n",
              "  <svg xmlns=\"http://www.w3.org/2000/svg\" height=\"24px\"viewBox=\"0 0 24 24\"\n",
              "       width=\"24px\">\n",
              "    <path d=\"M0 0h24v24H0V0z\" fill=\"none\"/>\n",
              "    <path d=\"M18.56 5.44l.94 2.06.94-2.06 2.06-.94-2.06-.94-.94-2.06-.94 2.06-2.06.94zm-11 1L8.5 8.5l.94-2.06 2.06-.94-2.06-.94L8.5 2.5l-.94 2.06-2.06.94zm10 10l.94 2.06.94-2.06 2.06-.94-2.06-.94-.94-2.06-.94 2.06-2.06.94z\"/><path d=\"M17.41 7.96l-1.37-1.37c-.4-.4-.92-.59-1.43-.59-.52 0-1.04.2-1.43.59L10.3 9.45l-7.72 7.72c-.78.78-.78 2.05 0 2.83L4 21.41c.39.39.9.59 1.41.59.51 0 1.02-.2 1.41-.59l7.78-7.78 2.81-2.81c.8-.78.8-2.07 0-2.86zM5.41 20L4 18.59l7.72-7.72 1.47 1.35L5.41 20z\"/>\n",
              "  </svg>\n",
              "      </button>\n",
              "      \n",
              "  <style>\n",
              "    .colab-df-container {\n",
              "      display:flex;\n",
              "      flex-wrap:wrap;\n",
              "      gap: 12px;\n",
              "    }\n",
              "\n",
              "    .colab-df-convert {\n",
              "      background-color: #E8F0FE;\n",
              "      border: none;\n",
              "      border-radius: 50%;\n",
              "      cursor: pointer;\n",
              "      display: none;\n",
              "      fill: #1967D2;\n",
              "      height: 32px;\n",
              "      padding: 0 0 0 0;\n",
              "      width: 32px;\n",
              "    }\n",
              "\n",
              "    .colab-df-convert:hover {\n",
              "      background-color: #E2EBFA;\n",
              "      box-shadow: 0px 1px 2px rgba(60, 64, 67, 0.3), 0px 1px 3px 1px rgba(60, 64, 67, 0.15);\n",
              "      fill: #174EA6;\n",
              "    }\n",
              "\n",
              "    [theme=dark] .colab-df-convert {\n",
              "      background-color: #3B4455;\n",
              "      fill: #D2E3FC;\n",
              "    }\n",
              "\n",
              "    [theme=dark] .colab-df-convert:hover {\n",
              "      background-color: #434B5C;\n",
              "      box-shadow: 0px 1px 3px 1px rgba(0, 0, 0, 0.15);\n",
              "      filter: drop-shadow(0px 1px 2px rgba(0, 0, 0, 0.3));\n",
              "      fill: #FFFFFF;\n",
              "    }\n",
              "  </style>\n",
              "\n",
              "      <script>\n",
              "        const buttonEl =\n",
              "          document.querySelector('#df-c88c81a0-0266-43a1-8922-fbefdc467b78 button.colab-df-convert');\n",
              "        buttonEl.style.display =\n",
              "          google.colab.kernel.accessAllowed ? 'block' : 'none';\n",
              "\n",
              "        async function convertToInteractive(key) {\n",
              "          const element = document.querySelector('#df-c88c81a0-0266-43a1-8922-fbefdc467b78');\n",
              "          const dataTable =\n",
              "            await google.colab.kernel.invokeFunction('convertToInteractive',\n",
              "                                                     [key], {});\n",
              "          if (!dataTable) return;\n",
              "\n",
              "          const docLinkHtml = 'Like what you see? Visit the ' +\n",
              "            '<a target=\"_blank\" href=https://colab.research.google.com/notebooks/data_table.ipynb>data table notebook</a>'\n",
              "            + ' to learn more about interactive tables.';\n",
              "          element.innerHTML = '';\n",
              "          dataTable['output_type'] = 'display_data';\n",
              "          await google.colab.output.renderOutput(dataTable, element);\n",
              "          const docLink = document.createElement('div');\n",
              "          docLink.innerHTML = docLinkHtml;\n",
              "          element.appendChild(docLink);\n",
              "        }\n",
              "      </script>\n",
              "    </div>\n",
              "  </div>\n",
              "  "
            ]
          },
          "metadata": {},
          "execution_count": 90
        }
      ]
    },
    {
      "cell_type": "code",
      "source": [
        "val_df"
      ],
      "metadata": {
        "id": "15QK78uWTz0z",
        "colab": {
          "base_uri": "https://localhost:8080/",
          "height": 1000
        },
        "outputId": "043efe19-02ee-484a-d050-9cd2964ae104"
      },
      "execution_count": null,
      "outputs": [
        {
          "output_type": "execute_result",
          "data": {
            "text/plain": [
              "                                                 Images  \\\n",
              "6792  /content/drive/MyDrive/COSC6338/Dataset/Img_Ch...   \n",
              "3286  /content/drive/MyDrive/COSC6338/Dataset/Img_Ch...   \n",
              "6727  /content/drive/MyDrive/COSC6338/Dataset/Img_Ch...   \n",
              "5827  /content/drive/MyDrive/COSC6338/Dataset/Img_Ch...   \n",
              "3903  /content/drive/MyDrive/COSC6338/Dataset/Img_Ch...   \n",
              "...                                                 ...   \n",
              "5655  /content/drive/MyDrive/COSC6338/Dataset/Img_Ch...   \n",
              "6554  /content/drive/MyDrive/COSC6338/Dataset/Img_Ch...   \n",
              "3270  /content/drive/MyDrive/COSC6338/Dataset/Img_Ch...   \n",
              "2949  /content/drive/MyDrive/COSC6338/Dataset/Img_Ch...   \n",
              "2105  /content/drive/MyDrive/COSC6338/Dataset/Img_Ch...   \n",
              "\n",
              "                                                  Masks  \n",
              "6792  /content/drive/MyDrive/COSC6338/Dataset/Masks_...  \n",
              "3286  /content/drive/MyDrive/COSC6338/Dataset/Masks_...  \n",
              "6727  /content/drive/MyDrive/COSC6338/Dataset/Masks_...  \n",
              "5827  /content/drive/MyDrive/COSC6338/Dataset/Masks_...  \n",
              "3903  /content/drive/MyDrive/COSC6338/Dataset/Masks_...  \n",
              "...                                                 ...  \n",
              "5655  /content/drive/MyDrive/COSC6338/Dataset/Masks_...  \n",
              "6554  /content/drive/MyDrive/COSC6338/Dataset/Masks_...  \n",
              "3270  /content/drive/MyDrive/COSC6338/Dataset/Masks_...  \n",
              "2949  /content/drive/MyDrive/COSC6338/Dataset/Masks_...  \n",
              "2105  /content/drive/MyDrive/COSC6338/Dataset/Masks_...  \n",
              "\n",
              "[778 rows x 2 columns]"
            ],
            "text/html": [
              "\n",
              "  <div id=\"df-0ad7e178-9f45-46a4-aecf-bec3311e801b\">\n",
              "    <div class=\"colab-df-container\">\n",
              "      <div>\n",
              "<style scoped>\n",
              "    .dataframe tbody tr th:only-of-type {\n",
              "        vertical-align: middle;\n",
              "    }\n",
              "\n",
              "    .dataframe tbody tr th {\n",
              "        vertical-align: top;\n",
              "    }\n",
              "\n",
              "    .dataframe thead th {\n",
              "        text-align: right;\n",
              "    }\n",
              "</style>\n",
              "<table border=\"1\" class=\"dataframe\">\n",
              "  <thead>\n",
              "    <tr style=\"text-align: right;\">\n",
              "      <th></th>\n",
              "      <th>Images</th>\n",
              "      <th>Masks</th>\n",
              "    </tr>\n",
              "  </thead>\n",
              "  <tbody>\n",
              "    <tr>\n",
              "      <th>6792</th>\n",
              "      <td>/content/drive/MyDrive/COSC6338/Dataset/Img_Ch...</td>\n",
              "      <td>/content/drive/MyDrive/COSC6338/Dataset/Masks_...</td>\n",
              "    </tr>\n",
              "    <tr>\n",
              "      <th>3286</th>\n",
              "      <td>/content/drive/MyDrive/COSC6338/Dataset/Img_Ch...</td>\n",
              "      <td>/content/drive/MyDrive/COSC6338/Dataset/Masks_...</td>\n",
              "    </tr>\n",
              "    <tr>\n",
              "      <th>6727</th>\n",
              "      <td>/content/drive/MyDrive/COSC6338/Dataset/Img_Ch...</td>\n",
              "      <td>/content/drive/MyDrive/COSC6338/Dataset/Masks_...</td>\n",
              "    </tr>\n",
              "    <tr>\n",
              "      <th>5827</th>\n",
              "      <td>/content/drive/MyDrive/COSC6338/Dataset/Img_Ch...</td>\n",
              "      <td>/content/drive/MyDrive/COSC6338/Dataset/Masks_...</td>\n",
              "    </tr>\n",
              "    <tr>\n",
              "      <th>3903</th>\n",
              "      <td>/content/drive/MyDrive/COSC6338/Dataset/Img_Ch...</td>\n",
              "      <td>/content/drive/MyDrive/COSC6338/Dataset/Masks_...</td>\n",
              "    </tr>\n",
              "    <tr>\n",
              "      <th>...</th>\n",
              "      <td>...</td>\n",
              "      <td>...</td>\n",
              "    </tr>\n",
              "    <tr>\n",
              "      <th>5655</th>\n",
              "      <td>/content/drive/MyDrive/COSC6338/Dataset/Img_Ch...</td>\n",
              "      <td>/content/drive/MyDrive/COSC6338/Dataset/Masks_...</td>\n",
              "    </tr>\n",
              "    <tr>\n",
              "      <th>6554</th>\n",
              "      <td>/content/drive/MyDrive/COSC6338/Dataset/Img_Ch...</td>\n",
              "      <td>/content/drive/MyDrive/COSC6338/Dataset/Masks_...</td>\n",
              "    </tr>\n",
              "    <tr>\n",
              "      <th>3270</th>\n",
              "      <td>/content/drive/MyDrive/COSC6338/Dataset/Img_Ch...</td>\n",
              "      <td>/content/drive/MyDrive/COSC6338/Dataset/Masks_...</td>\n",
              "    </tr>\n",
              "    <tr>\n",
              "      <th>2949</th>\n",
              "      <td>/content/drive/MyDrive/COSC6338/Dataset/Img_Ch...</td>\n",
              "      <td>/content/drive/MyDrive/COSC6338/Dataset/Masks_...</td>\n",
              "    </tr>\n",
              "    <tr>\n",
              "      <th>2105</th>\n",
              "      <td>/content/drive/MyDrive/COSC6338/Dataset/Img_Ch...</td>\n",
              "      <td>/content/drive/MyDrive/COSC6338/Dataset/Masks_...</td>\n",
              "    </tr>\n",
              "  </tbody>\n",
              "</table>\n",
              "<p>778 rows × 2 columns</p>\n",
              "</div>\n",
              "      <button class=\"colab-df-convert\" onclick=\"convertToInteractive('df-0ad7e178-9f45-46a4-aecf-bec3311e801b')\"\n",
              "              title=\"Convert this dataframe to an interactive table.\"\n",
              "              style=\"display:none;\">\n",
              "        \n",
              "  <svg xmlns=\"http://www.w3.org/2000/svg\" height=\"24px\"viewBox=\"0 0 24 24\"\n",
              "       width=\"24px\">\n",
              "    <path d=\"M0 0h24v24H0V0z\" fill=\"none\"/>\n",
              "    <path d=\"M18.56 5.44l.94 2.06.94-2.06 2.06-.94-2.06-.94-.94-2.06-.94 2.06-2.06.94zm-11 1L8.5 8.5l.94-2.06 2.06-.94-2.06-.94L8.5 2.5l-.94 2.06-2.06.94zm10 10l.94 2.06.94-2.06 2.06-.94-2.06-.94-.94-2.06-.94 2.06-2.06.94z\"/><path d=\"M17.41 7.96l-1.37-1.37c-.4-.4-.92-.59-1.43-.59-.52 0-1.04.2-1.43.59L10.3 9.45l-7.72 7.72c-.78.78-.78 2.05 0 2.83L4 21.41c.39.39.9.59 1.41.59.51 0 1.02-.2 1.41-.59l7.78-7.78 2.81-2.81c.8-.78.8-2.07 0-2.86zM5.41 20L4 18.59l7.72-7.72 1.47 1.35L5.41 20z\"/>\n",
              "  </svg>\n",
              "      </button>\n",
              "      \n",
              "  <style>\n",
              "    .colab-df-container {\n",
              "      display:flex;\n",
              "      flex-wrap:wrap;\n",
              "      gap: 12px;\n",
              "    }\n",
              "\n",
              "    .colab-df-convert {\n",
              "      background-color: #E8F0FE;\n",
              "      border: none;\n",
              "      border-radius: 50%;\n",
              "      cursor: pointer;\n",
              "      display: none;\n",
              "      fill: #1967D2;\n",
              "      height: 32px;\n",
              "      padding: 0 0 0 0;\n",
              "      width: 32px;\n",
              "    }\n",
              "\n",
              "    .colab-df-convert:hover {\n",
              "      background-color: #E2EBFA;\n",
              "      box-shadow: 0px 1px 2px rgba(60, 64, 67, 0.3), 0px 1px 3px 1px rgba(60, 64, 67, 0.15);\n",
              "      fill: #174EA6;\n",
              "    }\n",
              "\n",
              "    [theme=dark] .colab-df-convert {\n",
              "      background-color: #3B4455;\n",
              "      fill: #D2E3FC;\n",
              "    }\n",
              "\n",
              "    [theme=dark] .colab-df-convert:hover {\n",
              "      background-color: #434B5C;\n",
              "      box-shadow: 0px 1px 3px 1px rgba(0, 0, 0, 0.15);\n",
              "      filter: drop-shadow(0px 1px 2px rgba(0, 0, 0, 0.3));\n",
              "      fill: #FFFFFF;\n",
              "    }\n",
              "  </style>\n",
              "\n",
              "      <script>\n",
              "        const buttonEl =\n",
              "          document.querySelector('#df-0ad7e178-9f45-46a4-aecf-bec3311e801b button.colab-df-convert');\n",
              "        buttonEl.style.display =\n",
              "          google.colab.kernel.accessAllowed ? 'block' : 'none';\n",
              "\n",
              "        async function convertToInteractive(key) {\n",
              "          const element = document.querySelector('#df-0ad7e178-9f45-46a4-aecf-bec3311e801b');\n",
              "          const dataTable =\n",
              "            await google.colab.kernel.invokeFunction('convertToInteractive',\n",
              "                                                     [key], {});\n",
              "          if (!dataTable) return;\n",
              "\n",
              "          const docLinkHtml = 'Like what you see? Visit the ' +\n",
              "            '<a target=\"_blank\" href=https://colab.research.google.com/notebooks/data_table.ipynb>data table notebook</a>'\n",
              "            + ' to learn more about interactive tables.';\n",
              "          element.innerHTML = '';\n",
              "          dataTable['output_type'] = 'display_data';\n",
              "          await google.colab.output.renderOutput(dataTable, element);\n",
              "          const docLink = document.createElement('div');\n",
              "          docLink.innerHTML = docLinkHtml;\n",
              "          element.appendChild(docLink);\n",
              "        }\n",
              "      </script>\n",
              "    </div>\n",
              "  </div>\n",
              "  "
            ]
          },
          "metadata": {},
          "execution_count": 91
        }
      ]
    },
    {
      "cell_type": "code",
      "source": [
        "test_df"
      ],
      "metadata": {
        "id": "ZetblXpD-1Ci",
        "colab": {
          "base_uri": "https://localhost:8080/",
          "height": 1000
        },
        "outputId": "a82a19d3-3118-42bd-b195-48ed70466726"
      },
      "execution_count": null,
      "outputs": [
        {
          "output_type": "execute_result",
          "data": {
            "text/plain": [
              "                                                 Images  \\\n",
              "6805  /content/drive/MyDrive/COSC6338/Dataset/Img_Ch...   \n",
              "4570  /content/drive/MyDrive/COSC6338/Dataset/Img_Ch...   \n",
              "222   /content/drive/MyDrive/COSC6338/Dataset/Img_Ch...   \n",
              "3984  /content/drive/MyDrive/COSC6338/Dataset/Img_Ch...   \n",
              "318   /content/drive/MyDrive/COSC6338/Dataset/Img_Ch...   \n",
              "...                                                 ...   \n",
              "7913  /content/drive/MyDrive/COSC6338/Dataset/Img_Ch...   \n",
              "7452  /content/drive/MyDrive/COSC6338/Dataset/Img_Ch...   \n",
              "7161  /content/drive/MyDrive/COSC6338/Dataset/Img_Ch...   \n",
              "1729  /content/drive/MyDrive/COSC6338/Dataset/Img_Ch...   \n",
              "1488  /content/drive/MyDrive/COSC6338/Dataset/Img_Ch...   \n",
              "\n",
              "                                                  Masks  \n",
              "6805  /content/drive/MyDrive/COSC6338/Dataset/Masks_...  \n",
              "4570  /content/drive/MyDrive/COSC6338/Dataset/Masks_...  \n",
              "222   /content/drive/MyDrive/COSC6338/Dataset/Masks_...  \n",
              "3984  /content/drive/MyDrive/COSC6338/Dataset/Masks_...  \n",
              "318   /content/drive/MyDrive/COSC6338/Dataset/Masks_...  \n",
              "...                                                 ...  \n",
              "7913  /content/drive/MyDrive/COSC6338/Dataset/Masks_...  \n",
              "7452  /content/drive/MyDrive/COSC6338/Dataset/Masks_...  \n",
              "7161  /content/drive/MyDrive/COSC6338/Dataset/Masks_...  \n",
              "1729  /content/drive/MyDrive/COSC6338/Dataset/Masks_...  \n",
              "1488  /content/drive/MyDrive/COSC6338/Dataset/Masks_...  \n",
              "\n",
              "[864 rows x 2 columns]"
            ],
            "text/html": [
              "\n",
              "  <div id=\"df-5d9bbd54-d1e1-46e6-b012-b687f068540c\">\n",
              "    <div class=\"colab-df-container\">\n",
              "      <div>\n",
              "<style scoped>\n",
              "    .dataframe tbody tr th:only-of-type {\n",
              "        vertical-align: middle;\n",
              "    }\n",
              "\n",
              "    .dataframe tbody tr th {\n",
              "        vertical-align: top;\n",
              "    }\n",
              "\n",
              "    .dataframe thead th {\n",
              "        text-align: right;\n",
              "    }\n",
              "</style>\n",
              "<table border=\"1\" class=\"dataframe\">\n",
              "  <thead>\n",
              "    <tr style=\"text-align: right;\">\n",
              "      <th></th>\n",
              "      <th>Images</th>\n",
              "      <th>Masks</th>\n",
              "    </tr>\n",
              "  </thead>\n",
              "  <tbody>\n",
              "    <tr>\n",
              "      <th>6805</th>\n",
              "      <td>/content/drive/MyDrive/COSC6338/Dataset/Img_Ch...</td>\n",
              "      <td>/content/drive/MyDrive/COSC6338/Dataset/Masks_...</td>\n",
              "    </tr>\n",
              "    <tr>\n",
              "      <th>4570</th>\n",
              "      <td>/content/drive/MyDrive/COSC6338/Dataset/Img_Ch...</td>\n",
              "      <td>/content/drive/MyDrive/COSC6338/Dataset/Masks_...</td>\n",
              "    </tr>\n",
              "    <tr>\n",
              "      <th>222</th>\n",
              "      <td>/content/drive/MyDrive/COSC6338/Dataset/Img_Ch...</td>\n",
              "      <td>/content/drive/MyDrive/COSC6338/Dataset/Masks_...</td>\n",
              "    </tr>\n",
              "    <tr>\n",
              "      <th>3984</th>\n",
              "      <td>/content/drive/MyDrive/COSC6338/Dataset/Img_Ch...</td>\n",
              "      <td>/content/drive/MyDrive/COSC6338/Dataset/Masks_...</td>\n",
              "    </tr>\n",
              "    <tr>\n",
              "      <th>318</th>\n",
              "      <td>/content/drive/MyDrive/COSC6338/Dataset/Img_Ch...</td>\n",
              "      <td>/content/drive/MyDrive/COSC6338/Dataset/Masks_...</td>\n",
              "    </tr>\n",
              "    <tr>\n",
              "      <th>...</th>\n",
              "      <td>...</td>\n",
              "      <td>...</td>\n",
              "    </tr>\n",
              "    <tr>\n",
              "      <th>7913</th>\n",
              "      <td>/content/drive/MyDrive/COSC6338/Dataset/Img_Ch...</td>\n",
              "      <td>/content/drive/MyDrive/COSC6338/Dataset/Masks_...</td>\n",
              "    </tr>\n",
              "    <tr>\n",
              "      <th>7452</th>\n",
              "      <td>/content/drive/MyDrive/COSC6338/Dataset/Img_Ch...</td>\n",
              "      <td>/content/drive/MyDrive/COSC6338/Dataset/Masks_...</td>\n",
              "    </tr>\n",
              "    <tr>\n",
              "      <th>7161</th>\n",
              "      <td>/content/drive/MyDrive/COSC6338/Dataset/Img_Ch...</td>\n",
              "      <td>/content/drive/MyDrive/COSC6338/Dataset/Masks_...</td>\n",
              "    </tr>\n",
              "    <tr>\n",
              "      <th>1729</th>\n",
              "      <td>/content/drive/MyDrive/COSC6338/Dataset/Img_Ch...</td>\n",
              "      <td>/content/drive/MyDrive/COSC6338/Dataset/Masks_...</td>\n",
              "    </tr>\n",
              "    <tr>\n",
              "      <th>1488</th>\n",
              "      <td>/content/drive/MyDrive/COSC6338/Dataset/Img_Ch...</td>\n",
              "      <td>/content/drive/MyDrive/COSC6338/Dataset/Masks_...</td>\n",
              "    </tr>\n",
              "  </tbody>\n",
              "</table>\n",
              "<p>864 rows × 2 columns</p>\n",
              "</div>\n",
              "      <button class=\"colab-df-convert\" onclick=\"convertToInteractive('df-5d9bbd54-d1e1-46e6-b012-b687f068540c')\"\n",
              "              title=\"Convert this dataframe to an interactive table.\"\n",
              "              style=\"display:none;\">\n",
              "        \n",
              "  <svg xmlns=\"http://www.w3.org/2000/svg\" height=\"24px\"viewBox=\"0 0 24 24\"\n",
              "       width=\"24px\">\n",
              "    <path d=\"M0 0h24v24H0V0z\" fill=\"none\"/>\n",
              "    <path d=\"M18.56 5.44l.94 2.06.94-2.06 2.06-.94-2.06-.94-.94-2.06-.94 2.06-2.06.94zm-11 1L8.5 8.5l.94-2.06 2.06-.94-2.06-.94L8.5 2.5l-.94 2.06-2.06.94zm10 10l.94 2.06.94-2.06 2.06-.94-2.06-.94-.94-2.06-.94 2.06-2.06.94z\"/><path d=\"M17.41 7.96l-1.37-1.37c-.4-.4-.92-.59-1.43-.59-.52 0-1.04.2-1.43.59L10.3 9.45l-7.72 7.72c-.78.78-.78 2.05 0 2.83L4 21.41c.39.39.9.59 1.41.59.51 0 1.02-.2 1.41-.59l7.78-7.78 2.81-2.81c.8-.78.8-2.07 0-2.86zM5.41 20L4 18.59l7.72-7.72 1.47 1.35L5.41 20z\"/>\n",
              "  </svg>\n",
              "      </button>\n",
              "      \n",
              "  <style>\n",
              "    .colab-df-container {\n",
              "      display:flex;\n",
              "      flex-wrap:wrap;\n",
              "      gap: 12px;\n",
              "    }\n",
              "\n",
              "    .colab-df-convert {\n",
              "      background-color: #E8F0FE;\n",
              "      border: none;\n",
              "      border-radius: 50%;\n",
              "      cursor: pointer;\n",
              "      display: none;\n",
              "      fill: #1967D2;\n",
              "      height: 32px;\n",
              "      padding: 0 0 0 0;\n",
              "      width: 32px;\n",
              "    }\n",
              "\n",
              "    .colab-df-convert:hover {\n",
              "      background-color: #E2EBFA;\n",
              "      box-shadow: 0px 1px 2px rgba(60, 64, 67, 0.3), 0px 1px 3px 1px rgba(60, 64, 67, 0.15);\n",
              "      fill: #174EA6;\n",
              "    }\n",
              "\n",
              "    [theme=dark] .colab-df-convert {\n",
              "      background-color: #3B4455;\n",
              "      fill: #D2E3FC;\n",
              "    }\n",
              "\n",
              "    [theme=dark] .colab-df-convert:hover {\n",
              "      background-color: #434B5C;\n",
              "      box-shadow: 0px 1px 3px 1px rgba(0, 0, 0, 0.15);\n",
              "      filter: drop-shadow(0px 1px 2px rgba(0, 0, 0, 0.3));\n",
              "      fill: #FFFFFF;\n",
              "    }\n",
              "  </style>\n",
              "\n",
              "      <script>\n",
              "        const buttonEl =\n",
              "          document.querySelector('#df-5d9bbd54-d1e1-46e6-b012-b687f068540c button.colab-df-convert');\n",
              "        buttonEl.style.display =\n",
              "          google.colab.kernel.accessAllowed ? 'block' : 'none';\n",
              "\n",
              "        async function convertToInteractive(key) {\n",
              "          const element = document.querySelector('#df-5d9bbd54-d1e1-46e6-b012-b687f068540c');\n",
              "          const dataTable =\n",
              "            await google.colab.kernel.invokeFunction('convertToInteractive',\n",
              "                                                     [key], {});\n",
              "          if (!dataTable) return;\n",
              "\n",
              "          const docLinkHtml = 'Like what you see? Visit the ' +\n",
              "            '<a target=\"_blank\" href=https://colab.research.google.com/notebooks/data_table.ipynb>data table notebook</a>'\n",
              "            + ' to learn more about interactive tables.';\n",
              "          element.innerHTML = '';\n",
              "          dataTable['output_type'] = 'display_data';\n",
              "          await google.colab.output.renderOutput(dataTable, element);\n",
              "          const docLink = document.createElement('div');\n",
              "          docLink.innerHTML = docLinkHtml;\n",
              "          element.appendChild(docLink);\n",
              "        }\n",
              "      </script>\n",
              "    </div>\n",
              "  </div>\n",
              "  "
            ]
          },
          "metadata": {},
          "execution_count": 92
        }
      ]
    },
    {
      "cell_type": "markdown",
      "source": [
        "### Creating transforms"
      ],
      "metadata": {
        "id": "kRGRCG9eAD-O"
      }
    },
    {
      "cell_type": "code",
      "source": [
        "plain_transform = A.Compose( [A.PadIfNeeded(min_height=TARGET_CHIP_SIZE, min_width=TARGET_CHIP_SIZE, border_mode=4)] )\n",
        "\n",
        "model1_transform = A.Compose( [A.PadIfNeeded(min_height=TARGET_CHIP_SIZE, min_width=TARGET_CHIP_SIZE, border_mode=4),\n",
        "                              A.Resize(TARGET_CHIP_SIZE, TARGET_CHIP_SIZE, interpolation=cv2.INTER_NEAREST),\n",
        "                              A.RandomBrightnessContrast(brightness_limit=0.3, contrast_limit=0.3, p=0.5), \n",
        "                              A.HorizontalFlip(p=0.5),\n",
        "                              A.VerticalFlip(p=0.5),\n",
        "                              A.MedianBlur(blur_limit=3, always_apply=False, p=0.1)] )"
      ],
      "metadata": {
        "id": "0J0v5ezBAKtg"
      },
      "execution_count": null,
      "outputs": []
    },
    {
      "cell_type": "markdown",
      "source": [
        "### Creating UAVidDataset Instances"
      ],
      "metadata": {
        "id": "pMkaTaNWCmcP"
      }
    },
    {
      "cell_type": "code",
      "source": [
        "if model1:\n",
        "  trainDS = UAVidDataset(train_df, transform=model1_transform)\n",
        "  PATH = './Models/model1.pth'\n",
        "  HIST_PATH = './Models/model1_training_hist.csv'\n",
        "else:\n",
        "  trainDS = UAVidDataset(train_df, transform=plain_transform)\n",
        "  PATH = './Models/model_plain.pth'\n",
        "  HIST_PATH = './Models/model_plain_training_hist.csv'\n",
        "\n",
        "valDS = UAVidDataset(val_df, transform=plain_transform)\n",
        "testDS = UAVidDataset(test_df, transform=plain_transform)"
      ],
      "metadata": {
        "id": "69pi9UHUCxQh"
      },
      "execution_count": null,
      "outputs": []
    },
    {
      "cell_type": "markdown",
      "source": [
        "### Creating the DataLoaders"
      ],
      "metadata": {
        "id": "oI6fbbnbE1h9"
      }
    },
    {
      "cell_type": "code",
      "source": [
        "trainDL = DataLoader(trainDS, batch_size=batch_size,\n",
        "                     shuffle=False, sampler=None,\n",
        "                     batch_sampler=None, num_workers=0,\n",
        "                     collate_fn=None, pin_memory=False,\n",
        "                     drop_last=False, timeout=0, worker_init_fn=None)\n",
        "\n",
        "valDL = DataLoader(valDS, batch_size=batch_size,\n",
        "                    shuffle=False, sampler=None,\n",
        "                    batch_sampler=None, num_workers=0,\n",
        "                    collate_fn=None, pin_memory=False,\n",
        "                    drop_last=False, timeout=0, worker_init_fn=None)\n",
        "\n",
        "testDL = DataLoader(testDS, batch_size=batch_size,\n",
        "                    shuffle=False, sampler=None,\n",
        "                    batch_sampler=None, num_workers=0,\n",
        "                    collate_fn=None, pin_memory=False,\n",
        "                    drop_last=False, timeout=0, worker_init_fn=None)"
      ],
      "metadata": {
        "id": "wiFOvFeYE8vf"
      },
      "execution_count": null,
      "outputs": []
    },
    {
      "cell_type": "code",
      "source": [
        "sample_batch = next(iter(trainDL)) \n",
        "images, masks = sample_batch\n",
        "\n",
        "print(\"Image Batch Shape: {}. Image Batch Type: {}. Image DataType: {}.\".format(images.shape, type(images), images.dtype))\n",
        "print(\"Mask Batch Shape: {}. Mask Batch Type: {}. Mask DataType: {}.\".format(masks.shape, type(masks), masks.dtype))"
      ],
      "metadata": {
        "id": "JWKZYkQ1H9Bw",
        "colab": {
          "base_uri": "https://localhost:8080/"
        },
        "outputId": "8647ab07-6255-419a-802c-806b47649368"
      },
      "execution_count": null,
      "outputs": [
        {
          "output_type": "stream",
          "name": "stdout",
          "text": [
            "Image Batch Shape: torch.Size([16, 3, 256, 256]). Image Batch Type: <class 'torch.Tensor'>. Image DataType: torch.float32.\n",
            "Mask Batch Shape: torch.Size([16, 1, 256, 256]). Mask Batch Type: <class 'torch.Tensor'>. Mask DataType: torch.int64.\n"
          ]
        }
      ]
    },
    {
      "cell_type": "code",
      "source": [
        "image_val = images[4]\n",
        "mask_val = masks[4]\n",
        "\n",
        "print(\"Validation of Image Shape: {}. Validation of Image Data Type: {}. Validation of Image Type: {}\".format(image_val.shape, image_val.dtype, type(image_val)))\n",
        "print(\"Validtion of Image Minimum Value: {}. Validation of Image Maximum Value: {}\\n\".format(image_val.min(), image_val.max()))\n",
        "\n",
        "print(\"Validation of Mask Shape: {}. Validation of Image Mask Type: {}. Validation of Mask Type: {}\".format(mask_val.shape, mask_val.dtype, type(mask_val)))\n",
        "print(\"Validtion of Mask Minimum Value: {}. Validation of Mask Maximum Value: {}\".format(mask_val.min(), mask_val.max()))"
      ],
      "metadata": {
        "id": "gQV-OKnuXWdg",
        "colab": {
          "base_uri": "https://localhost:8080/"
        },
        "outputId": "45b21ce1-833c-4d8c-9848-e5defa0a616e"
      },
      "execution_count": null,
      "outputs": [
        {
          "output_type": "stream",
          "name": "stdout",
          "text": [
            "Validation of Image Shape: torch.Size([3, 256, 256]). Validation of Image Data Type: torch.float32. Validation of Image Type: <class 'torch.Tensor'>\n",
            "Validtion of Image Minimum Value: 0.0. Validation of Image Maximum Value: 1.0\n",
            "\n",
            "Validation of Mask Shape: torch.Size([1, 256, 256]). Validation of Image Mask Type: torch.int64. Validation of Mask Type: <class 'torch.Tensor'>\n",
            "Validtion of Mask Minimum Value: 0. Validation of Mask Maximum Value: 5\n"
          ]
        }
      ]
    },
    {
      "cell_type": "markdown",
      "metadata": {
        "id": "j0qkiE7ECD1s"
      },
      "source": [
        "## **Model Training**"
      ]
    },
    {
      "cell_type": "markdown",
      "source": [
        "### Model Hyperparameters and Data Parameters"
      ],
      "metadata": {
        "id": "uzMajBtUGAQQ"
      }
    },
    {
      "cell_type": "code",
      "source": [
        "#Data Parameters\n",
        "input_channels = 3\n",
        "num_classes = 8\n",
        "classes = []\n",
        "\n",
        "#Model HyperParamters\n",
        "learning_rate = 0.0005\n",
        "epochs = 30\n",
        "layers_output_ch = [64, 128, 256, 512]"
      ],
      "metadata": {
        "id": "owi7cSxUGHOs"
      },
      "execution_count": null,
      "outputs": []
    },
    {
      "cell_type": "markdown",
      "source": [
        "### Train"
      ],
      "metadata": {
        "id": "LQXSXM1kaeCv"
      }
    },
    {
      "cell_type": "code",
      "source": [
        "if torch.cuda.is_available():\n",
        "    DEVICE = 'cuda:0'\n",
        "    print('Running on the GPU')\n",
        "else:\n",
        "    DEVICE = \"cpu\"\n",
        "    print('Running on the CPU')"
      ],
      "metadata": {
        "id": "oYcJDUnDmPO2",
        "colab": {
          "base_uri": "https://localhost:8080/"
        },
        "outputId": "c9e313b4-eeb3-47ec-e1b3-252cbb0b50dd"
      },
      "execution_count": null,
      "outputs": [
        {
          "output_type": "stream",
          "name": "stdout",
          "text": [
            "Running on the GPU\n"
          ]
        }
      ]
    },
    {
      "cell_type": "code",
      "source": [
        "model = UNET(in_channels=input_channels, classes=num_classes, layer_channels=layers_output_ch)\n",
        "\n",
        "x = torch.randn(size=(1, 3, 256, 256), dtype=torch.float32)\n",
        "with torch.no_grad():\n",
        "    out = model(x)\n",
        "\n",
        "print(f'Out: {out.shape}')"
      ],
      "metadata": {
        "id": "YY9Wx7kULCOK",
        "colab": {
          "base_uri": "https://localhost:8080/"
        },
        "outputId": "0b9fdaf0-538b-4768-b3b7-13ee70cfeba0"
      },
      "execution_count": null,
      "outputs": [
        {
          "output_type": "stream",
          "name": "stdout",
          "text": [
            "Out: torch.Size([1, 8, 256, 256])\n"
          ]
        }
      ]
    },
    {
      "cell_type": "code",
      "source": [
        "summary(model, (3,256,256))"
      ],
      "metadata": {
        "id": "8bfbrgOrP1DV",
        "colab": {
          "base_uri": "https://localhost:8080/"
        },
        "outputId": "347b9a4e-0007-4507-f508-7b2defe96b89"
      },
      "execution_count": null,
      "outputs": [
        {
          "output_type": "stream",
          "name": "stdout",
          "text": [
            "----------------------------------------------------------------\n",
            "        Layer (type)               Output Shape         Param #\n",
            "================================================================\n",
            "            Conv2d-1         [-1, 64, 256, 256]           1,728\n",
            "       BatchNorm2d-2         [-1, 64, 256, 256]             128\n",
            "              ReLU-3         [-1, 64, 256, 256]               0\n",
            "            Conv2d-4         [-1, 64, 256, 256]          36,928\n",
            "              ReLU-5         [-1, 64, 256, 256]               0\n",
            "         MaxPool2d-6         [-1, 64, 128, 128]               0\n",
            "            Conv2d-7        [-1, 128, 128, 128]          73,728\n",
            "       BatchNorm2d-8        [-1, 128, 128, 128]             256\n",
            "              ReLU-9        [-1, 128, 128, 128]               0\n",
            "           Conv2d-10        [-1, 128, 128, 128]         147,584\n",
            "             ReLU-11        [-1, 128, 128, 128]               0\n",
            "        MaxPool2d-12          [-1, 128, 64, 64]               0\n",
            "           Conv2d-13          [-1, 256, 64, 64]         294,912\n",
            "      BatchNorm2d-14          [-1, 256, 64, 64]             512\n",
            "             ReLU-15          [-1, 256, 64, 64]               0\n",
            "           Conv2d-16          [-1, 256, 64, 64]         590,080\n",
            "             ReLU-17          [-1, 256, 64, 64]               0\n",
            "        MaxPool2d-18          [-1, 256, 32, 32]               0\n",
            "           Conv2d-19          [-1, 512, 32, 32]       1,179,648\n",
            "      BatchNorm2d-20          [-1, 512, 32, 32]           1,024\n",
            "             ReLU-21          [-1, 512, 32, 32]               0\n",
            "           Conv2d-22          [-1, 512, 32, 32]       2,359,808\n",
            "             ReLU-23          [-1, 512, 32, 32]               0\n",
            "  ConvTranspose2d-24          [-1, 256, 64, 64]         524,544\n",
            "           Conv2d-25          [-1, 256, 64, 64]       1,179,648\n",
            "      BatchNorm2d-26          [-1, 256, 64, 64]             512\n",
            "             ReLU-27          [-1, 256, 64, 64]               0\n",
            "           Conv2d-28          [-1, 256, 64, 64]         590,080\n",
            "             ReLU-29          [-1, 256, 64, 64]               0\n",
            "  ConvTranspose2d-30        [-1, 128, 128, 128]         131,200\n",
            "           Conv2d-31        [-1, 128, 128, 128]         294,912\n",
            "      BatchNorm2d-32        [-1, 128, 128, 128]             256\n",
            "             ReLU-33        [-1, 128, 128, 128]               0\n",
            "           Conv2d-34        [-1, 128, 128, 128]         147,584\n",
            "             ReLU-35        [-1, 128, 128, 128]               0\n",
            "  ConvTranspose2d-36         [-1, 64, 256, 256]          32,832\n",
            "           Conv2d-37         [-1, 64, 256, 256]          73,728\n",
            "      BatchNorm2d-38         [-1, 64, 256, 256]             128\n",
            "             ReLU-39         [-1, 64, 256, 256]               0\n",
            "           Conv2d-40         [-1, 64, 256, 256]          36,928\n",
            "             ReLU-41         [-1, 64, 256, 256]               0\n",
            "           Conv2d-42          [-1, 8, 256, 256]             520\n",
            "================================================================\n",
            "Total params: 7,699,208\n",
            "Trainable params: 7,699,208\n",
            "Non-trainable params: 0\n",
            "----------------------------------------------------------------\n",
            "Input size (MB): 0.75\n",
            "Forward/backward pass size (MB): 654.00\n",
            "Params size (MB): 29.37\n",
            "Estimated Total Size (MB): 684.12\n",
            "----------------------------------------------------------------\n"
          ]
        }
      ]
    },
    {
      "cell_type": "code",
      "source": [
        "#setting up necessary functions and objects for training\n",
        "loss_function = smp.losses.DiceLoss(mode='multiclass')\n",
        "loss_function.__name__ = 'Dice_loss'\n",
        "\n",
        "IoU_Loss = smp.losses.JaccardLoss(mode='multiclass')\n",
        "IoU_Loss.__name__ = 'Jaccard_loss'\n",
        "\n",
        "metx = [IoU_Loss]\n",
        "\n",
        "opt = optim.Adam(model.parameters(), lr=learning_rate)"
      ],
      "metadata": {
        "id": "88UwSph-7mJi"
      },
      "execution_count": null,
      "outputs": []
    },
    {
      "cell_type": "code",
      "execution_count": null,
      "metadata": {
        "id": "SgVolZbwCSn7",
        "colab": {
          "base_uri": "https://localhost:8080/"
        },
        "outputId": "195dd5bd-78d0-4e5a-c946-c4669a27f3de"
      },
      "outputs": [
        {
          "output_type": "stream",
          "name": "stdout",
          "text": [
            "train: 100%|██████████| 438/438 [57:41<00:00,  7.90s/it, Dice_loss - 0.6532, Jaccard_loss - 0.7603]\n",
            "valid: 100%|██████████| 49/49 [00:15<00:00,  3.10it/s, Dice_loss - 0.6415, Jaccard_loss - 0.7488]\n",
            "train: 100%|██████████| 438/438 [04:35<00:00,  1.59it/s, Dice_loss - 0.5839, Jaccard_loss - 0.7065]\n",
            "valid: 100%|██████████| 49/49 [00:15<00:00,  3.15it/s, Dice_loss - 0.5572, Jaccard_loss - 0.6769]\n",
            "train: 100%|██████████| 438/438 [04:36<00:00,  1.59it/s, Dice_loss - 0.5568, Jaccard_loss - 0.684]\n",
            "valid: 100%|██████████| 49/49 [00:15<00:00,  3.11it/s, Dice_loss - 0.5534, Jaccard_loss - 0.6766]\n",
            "train: 100%|██████████| 438/438 [04:36<00:00,  1.58it/s, Dice_loss - 0.5322, Jaccard_loss - 0.6637]\n",
            "valid: 100%|██████████| 49/49 [00:15<00:00,  3.12it/s, Dice_loss - 0.5076, Jaccard_loss - 0.6368]\n",
            "train: 100%|██████████| 438/438 [04:35<00:00,  1.59it/s, Dice_loss - 0.5085, Jaccard_loss - 0.6445]\n",
            "valid: 100%|██████████| 49/49 [00:15<00:00,  3.12it/s, Dice_loss - 0.5157, Jaccard_loss - 0.6463]\n",
            "train: 100%|██████████| 438/438 [04:35<00:00,  1.59it/s, Dice_loss - 0.493, Jaccard_loss - 0.6302]\n",
            "valid: 100%|██████████| 49/49 [00:15<00:00,  3.08it/s, Dice_loss - 0.4894, Jaccard_loss - 0.6201]\n",
            "train: 100%|██████████| 438/438 [04:35<00:00,  1.59it/s, Dice_loss - 0.4737, Jaccard_loss - 0.6126]\n",
            "valid: 100%|██████████| 49/49 [00:15<00:00,  3.13it/s, Dice_loss - 0.4721, Jaccard_loss - 0.6039]\n",
            "train: 100%|██████████| 438/438 [04:35<00:00,  1.59it/s, Dice_loss - 0.4639, Jaccard_loss - 0.6033]\n",
            "valid: 100%|██████████| 49/49 [00:15<00:00,  3.16it/s, Dice_loss - 0.4408, Jaccard_loss - 0.5722]\n",
            "train: 100%|██████████| 438/438 [04:34<00:00,  1.60it/s, Dice_loss - 0.4552, Jaccard_loss - 0.5944]\n",
            "valid: 100%|██████████| 49/49 [00:15<00:00,  3.14it/s, Dice_loss - 0.4729, Jaccard_loss - 0.6037]\n",
            "train: 100%|██████████| 438/438 [04:34<00:00,  1.60it/s, Dice_loss - 0.4425, Jaccard_loss - 0.5819]\n",
            "valid: 100%|██████████| 49/49 [00:15<00:00,  3.11it/s, Dice_loss - 0.4625, Jaccard_loss - 0.5955]\n",
            "train: 100%|██████████| 438/438 [04:35<00:00,  1.59it/s, Dice_loss - 0.4366, Jaccard_loss - 0.5762]\n",
            "valid: 100%|██████████| 49/49 [00:15<00:00,  3.12it/s, Dice_loss - 0.4713, Jaccard_loss - 0.6028]\n",
            "train: 100%|██████████| 438/438 [04:35<00:00,  1.59it/s, Dice_loss - 0.4284, Jaccard_loss - 0.5688]\n",
            "valid: 100%|██████████| 49/49 [00:15<00:00,  3.13it/s, Dice_loss - 0.4194, Jaccard_loss - 0.5534]\n",
            "train: 100%|██████████| 438/438 [04:35<00:00,  1.59it/s, Dice_loss - 0.4227, Jaccard_loss - 0.5626]\n",
            "valid: 100%|██████████| 49/49 [00:15<00:00,  3.12it/s, Dice_loss - 0.429, Jaccard_loss - 0.5639]\n",
            "train: 100%|██████████| 438/438 [04:36<00:00,  1.59it/s, Dice_loss - 0.4172, Jaccard_loss - 0.5575]\n",
            "valid: 100%|██████████| 49/49 [00:15<00:00,  3.12it/s, Dice_loss - 0.4062, Jaccard_loss - 0.5395]\n",
            "train: 100%|██████████| 438/438 [04:36<00:00,  1.58it/s, Dice_loss - 0.4097, Jaccard_loss - 0.5495]\n",
            "valid: 100%|██████████| 49/49 [00:15<00:00,  3.12it/s, Dice_loss - 0.4236, Jaccard_loss - 0.5582]\n",
            "train: 100%|██████████| 438/438 [04:35<00:00,  1.59it/s, Dice_loss - 0.4076, Jaccard_loss - 0.548]\n",
            "valid: 100%|██████████| 49/49 [00:15<00:00,  3.14it/s, Dice_loss - 0.4167, Jaccard_loss - 0.5527]\n",
            "train: 100%|██████████| 438/438 [04:35<00:00,  1.59it/s, Dice_loss - 0.3972, Jaccard_loss - 0.5372]\n",
            "valid: 100%|██████████| 49/49 [00:15<00:00,  3.06it/s, Dice_loss - 0.4116, Jaccard_loss - 0.5428]\n",
            "train: 100%|██████████| 438/438 [04:35<00:00,  1.59it/s, Dice_loss - 0.3911, Jaccard_loss - 0.5311]\n",
            "valid: 100%|██████████| 49/49 [00:15<00:00,  3.12it/s, Dice_loss - 0.3937, Jaccard_loss - 0.5263]\n",
            "train: 100%|██████████| 438/438 [04:38<00:00,  1.57it/s, Dice_loss - 0.3892, Jaccard_loss - 0.5291]\n",
            "valid: 100%|██████████| 49/49 [00:16<00:00,  2.92it/s, Dice_loss - 0.391, Jaccard_loss - 0.5208]\n",
            "train: 100%|██████████| 438/438 [04:40<00:00,  1.56it/s, Dice_loss - 0.3924, Jaccard_loss - 0.5321]\n",
            "valid: 100%|██████████| 49/49 [00:15<00:00,  3.13it/s, Dice_loss - 0.3794, Jaccard_loss - 0.5123]\n",
            "train: 100%|██████████| 438/438 [04:35<00:00,  1.59it/s, Dice_loss - 0.3788, Jaccard_loss - 0.5178]\n",
            "valid: 100%|██████████| 49/49 [00:15<00:00,  3.11it/s, Dice_loss - 0.4479, Jaccard_loss - 0.5785]\n",
            "train: 100%|██████████| 438/438 [04:35<00:00,  1.59it/s, Dice_loss - 0.3723, Jaccard_loss - 0.5109]\n",
            "valid: 100%|██████████| 49/49 [00:15<00:00,  3.12it/s, Dice_loss - 0.3769, Jaccard_loss - 0.5104]\n",
            "train: 100%|██████████| 438/438 [04:35<00:00,  1.59it/s, Dice_loss - 0.3873, Jaccard_loss - 0.5276]\n",
            "valid: 100%|██████████| 49/49 [00:15<00:00,  3.13it/s, Dice_loss - 0.3875, Jaccard_loss - 0.5185]\n",
            "train: 100%|██████████| 438/438 [04:35<00:00,  1.59it/s, Dice_loss - 0.3731, Jaccard_loss - 0.5117]\n",
            "valid: 100%|██████████| 49/49 [00:15<00:00,  3.10it/s, Dice_loss - 0.3898, Jaccard_loss - 0.5227]\n",
            "train: 100%|██████████| 438/438 [04:35<00:00,  1.59it/s, Dice_loss - 0.367, Jaccard_loss - 0.5056]\n",
            "valid: 100%|██████████| 49/49 [00:15<00:00,  3.14it/s, Dice_loss - 0.3675, Jaccard_loss - 0.4989]\n",
            "train: 100%|██████████| 438/438 [04:36<00:00,  1.59it/s, Dice_loss - 0.3622, Jaccard_loss - 0.5003]\n",
            "valid: 100%|██████████| 49/49 [00:15<00:00,  3.11it/s, Dice_loss - 0.363, Jaccard_loss - 0.494]\n",
            "train: 100%|██████████| 438/438 [04:35<00:00,  1.59it/s, Dice_loss - 0.3591, Jaccard_loss - 0.4973]\n",
            "valid: 100%|██████████| 49/49 [00:15<00:00,  3.14it/s, Dice_loss - 0.3765, Jaccard_loss - 0.5084]\n",
            "train: 100%|██████████| 438/438 [04:36<00:00,  1.59it/s, Dice_loss - 0.3614, Jaccard_loss - 0.4998]\n",
            "valid: 100%|██████████| 49/49 [00:15<00:00,  3.11it/s, Dice_loss - 0.3728, Jaccard_loss - 0.5045]\n",
            "train: 100%|██████████| 438/438 [04:36<00:00,  1.59it/s, Dice_loss - 0.3557, Jaccard_loss - 0.4936]\n",
            "valid: 100%|██████████| 49/49 [00:15<00:00,  3.12it/s, Dice_loss - 0.3798, Jaccard_loss - 0.5143]\n",
            "train: 100%|██████████| 438/438 [04:36<00:00,  1.58it/s, Dice_loss - 0.3481, Jaccard_loss - 0.4858]\n",
            "valid: 100%|██████████| 49/49 [00:15<00:00,  3.12it/s, Dice_loss - 0.4028, Jaccard_loss - 0.5348]\n"
          ]
        }
      ],
      "source": [
        "training_loss_hist = []\n",
        "validation_loss_hist = []\n",
        "\n",
        "training_IoULoss_hist = []\n",
        "validation_IoULoss_hist = []\n",
        "\n",
        "if load_model_to_train:\n",
        "  model.load_state_dict(torch.load(PATH)['model_state_dict'])\n",
        "  opt.load_state_dict(torch.load(PATH)['optimizer_state_dict'])\n",
        "\n",
        "training_epoch = smp.utils.train.TrainEpoch(model=model, \n",
        "                                            loss=loss_function, \n",
        "                                            metrics=metx, \n",
        "                                            optimizer=opt, \n",
        "                                            device=DEVICE)\n",
        "\n",
        "validating_epoch = smp.utils.train.ValidEpoch(model=model, \n",
        "                                            loss=loss_function, \n",
        "                                            metrics=metx, \n",
        "                                            device=DEVICE)\n",
        "\n",
        "for e in range(epochs):\n",
        "  training_logs = training_epoch.run(trainDL)\n",
        "  validation_logs = validating_epoch.run(valDL)\n",
        "\n",
        "  training_loss_hist.append(training_logs['Dice_loss'])\n",
        "  validation_loss_hist.append(validation_logs['Dice_loss'])\n",
        "\n",
        "  training_IoULoss_hist.append(training_logs['Jaccard_loss'])\n",
        "  validation_IoULoss_hist.append(validation_logs['Jaccard_loss'])\n",
        "    \n",
        "  if save_model:\n",
        "    if model1:\n",
        "      torch.save({\n",
        "        'model_state_dict': training_epoch.model.state_dict(),\n",
        "        'optimizer_state_dict': training_epoch.optimizer.state_dict(),\n",
        "        'epoch': epochs}, PATH)"
      ]
    },
    {
      "cell_type": "code",
      "source": [
        "training_hist = pd.DataFrame(list(zip(training_loss_hist, validation_loss_hist, training_IoULoss_hist, validation_IoULoss_hist)), \n",
        "                             columns=['Train_Dice', 'Val_Dice', 'Train_IoU', 'Val_IoU'])\n",
        "\n",
        "training_hist.to_csv(HIST_PATH)"
      ],
      "metadata": {
        "id": "j6IDv71tLlRF"
      },
      "execution_count": null,
      "outputs": []
    },
    {
      "cell_type": "code",
      "source": [
        "import matplotlib.pyplot as plt\n",
        "\n",
        "fig, ax = plt.subplots(1,2, figsize=(20,10))\n",
        "fig.suptitle('Training and Validation History for Model 1', size=18)\n",
        "\n",
        "ax[0].title.set_text('Dice Loss')\n",
        "ax[0].set_ylabel(\"Dice Loss\")\n",
        "ax[0].set_xlabel(\"Epochs\")\n",
        "ax[0].plot(training_hist.index, training_hist['Train_Dice'], color='blue', label='Train Dice Loss')\n",
        "ax[0].plot(training_hist.index, training_hist['Val_Dice'], color='red', label='Validation Dice Loss')\n",
        "ax[0].legend()\n",
        "\n",
        "ax[1].title.set_text('Mean IoU Loss')\n",
        "ax[1].set_ylabel(\"IoU Loss\")\n",
        "ax[1].set_xlabel(\"Epochs\")\n",
        "ax[1].plot(training_hist.index, training_hist['Train_IoU'], color='blue', label='Train IoU Loss')\n",
        "ax[1].plot(training_hist.index, training_hist['Val_IoU'], color='red', label='Validation IoU Loss')\n",
        "ax[1].legend()\n",
        "\n",
        "plt.savefig('./Models/training_hist_plot.png')"
      ],
      "metadata": {
        "id": "R1tLFIJb336w",
        "colab": {
          "base_uri": "https://localhost:8080/",
          "height": 677
        },
        "outputId": "34a3f07b-dc46-4e7e-888b-1bb51538ccd8"
      },
      "execution_count": null,
      "outputs": [
        {
          "output_type": "display_data",
          "data": {
            "text/plain": [
              "<Figure size 1440x720 with 2 Axes>"
            ],
            "image/png": "[encoded data removed]"
          },
          "metadata": {
            "needs_background": "light"
          }
        }
      ]
    },
    {
      "cell_type": "markdown",
      "metadata": {
        "id": "NQU5eH_OCW-P"
      },
      "source": [
        "## **Model Evaluation**"
      ]
    },
    {
      "cell_type": "markdown",
      "source": [
        "### Evaluation Setup"
      ],
      "metadata": {
        "id": "mDEJeHkOKgHJ"
      }
    },
    {
      "cell_type": "code",
      "source": [
        "if torch.cuda.is_available():\n",
        "    DEVICE = 'cuda:0'\n",
        "    print('Running on the GPU')\n",
        "else:\n",
        "    DEVICE = \"cpu\"\n",
        "    print('Running on the CPU')"
      ],
      "metadata": {
        "colab": {
          "base_uri": "https://localhost:8080/"
        },
        "id": "wPKpGjNeKfg4",
        "outputId": "2ad44fdc-f7f3-4979-8596-700a3184e226"
      },
      "execution_count": null,
      "outputs": [
        {
          "output_type": "stream",
          "name": "stdout",
          "text": [
            "Running on the GPU\n"
          ]
        }
      ]
    },
    {
      "cell_type": "code",
      "source": [
        "#To load a saved model to evaluate\n",
        "if load_model_to_eval:\n",
        "  model = UNET(in_channels=input_channels, classes=num_classes, layer_channels=layers_output_ch)\n",
        "  if DEVICE == 'cpu':\n",
        "    model.load_state_dict(torch.load(PATH, map_location=torch.device('cpu'))['model_state_dict'])\n",
        "  else:\n",
        "    model.load_state_dict(torch.load(PATH)['model_state_dict'])\n",
        "\n",
        "  loss_function = smp.losses.DiceLoss(mode='multiclass')\n",
        "  loss_function.__name__ = 'Dice_loss'\n",
        "\n",
        "  IoU_Loss = smp.losses.JaccardLoss(mode='multiclass')\n",
        "  IoU_Loss.__name__ = 'Jaccard_loss'\n",
        "\n",
        "  metx = [IoU_Loss]\n",
        "\n",
        "testing_epoch = smp.utils.train.ValidEpoch(model=model, \n",
        "                                            loss=loss_function, \n",
        "                                            metrics=metx, \n",
        "                                            device=DEVICE)"
      ],
      "metadata": {
        "id": "e8MPkFpELBkX"
      },
      "execution_count": null,
      "outputs": []
    },
    {
      "cell_type": "markdown",
      "source": [
        "### Evaluating Model's Performance on Test Dataset"
      ],
      "metadata": {
        "id": "MQb9kf-IO3EE"
      }
    },
    {
      "cell_type": "code",
      "source": [
        "# Determining the Model's Dice Loss and Jaccard Loss performance on the test dataset\n",
        "evaluation_criteria = testing_epoch.run(testDL)\n",
        "print(\"Model's Dice Loss: {}. Model's Jaccard Loss: {}.\".format(evaluation_criteria['Dice_loss'], evaluation_criteria['Jaccard_loss']))"
      ],
      "metadata": {
        "colab": {
          "base_uri": "https://localhost:8080/"
        },
        "id": "co6lSAHAPDMj",
        "outputId": "c86d283a-c40f-46d2-c315-3708073eeccd"
      },
      "execution_count": null,
      "outputs": [
        {
          "output_type": "stream",
          "name": "stdout",
          "text": [
            "valid: 100%|██████████| 54/54 [00:18<00:00,  2.87it/s, Dice_loss - 0.3959, Jaccard_loss - 0.5333]\n",
            "Model's Dice Loss: 0.3958858417140113. Model's Jaccard Loss: 0.5333351746753412.\n"
          ]
        }
      ]
    },
    {
      "cell_type": "markdown",
      "source": [
        "### Predicting masks on test dataset"
      ],
      "metadata": {
        "id": "iBA0-GRmZvSD"
      }
    },
    {
      "cell_type": "code",
      "source": [
        "PRED_DIR = os.path.join(DATASET, 'Predictions')\n",
        "\n",
        "if not os.path.exists(PRED_DIR):\n",
        "  os.mkdir(PRED_DIR)\n",
        "\n",
        "GT_DIR = os.path.join(PRED_DIR, 'GT_Masks')\n",
        "\n",
        "if not os.path.exists(GT_DIR):\n",
        "  os.mkdir(GT_DIR)\n",
        "\n",
        "PR_DIR = os.path.join(PRED_DIR, 'PR_Masks')\n",
        "\n",
        "if not os.path.exists(PR_DIR):\n",
        "  os.mkdir(PR_DIR)\n",
        "\n",
        "for i in tqdm(range(len(testDS))):\n",
        "  name = os.path.splitext(os.path.basename(testDS.df.iloc[i,0]))[0]\n",
        "  parts = name.split('_')\n",
        "  \n",
        "  image, gt_mask = testDS[i]\n",
        "\n",
        "  gt_mask = gt_mask.squeeze().cpu().numpy()\n",
        "  x_tensor = image.to(DEVICE).unsqueeze(0)\n",
        "\n",
        "  pr_mask = model.predict(x_tensor)\n",
        "  m = nn.Softmax(dim=1)\n",
        "\n",
        "  pr_prob = m(pr_mask)\n",
        "  pr_mask = torch.argmax(pr_prob, dim=1).squeeze(1)\n",
        "  pr_mask = (pr_mask.squeeze().cpu().numpy().round())\n",
        "\n",
        "  filename = \"{}_{}.png\".format(parts[1], parts[2])\n",
        "\n",
        "  gt_target = os.path.join(GT_DIR, parts[0], 'TrainId')\n",
        "  if not os.path.exists(gt_target):\n",
        "    os.makedirs(gt_target)\n",
        "  pr_target = os.path.join(PR_DIR, parts[0], 'TrainId')\n",
        "  if not os.path.exists(pr_target):\n",
        "    os.makedirs(pr_target)\n",
        "\n",
        "  cv2.imwrite(os.path.join(pr_target, filename), pr_mask)\n",
        "  cv2.imwrite(os.path.join(gt_target, filename), gt_mask)"
      ],
      "metadata": {
        "colab": {
          "base_uri": "https://localhost:8080/"
        },
        "id": "v0m0Zja-Zupf",
        "outputId": "24a30c78-362f-4d71-9be4-2949938ab323"
      },
      "execution_count": null,
      "outputs": [
        {
          "output_type": "stream",
          "name": "stderr",
          "text": [
            "100%|██████████| 864/864 [00:27<00:00, 31.62it/s]\n"
          ]
        }
      ]
    },
    {
      "cell_type": "code",
      "source": [
        "!python3 ./Dataset/UAVidToolKit/convertTrainIdFiles2Color.py -s ./Dataset/Predictions/PR_Masks -t ./Dataset/Predictions/PR_Masks -f 'Labels'"
      ],
      "metadata": {
        "colab": {
          "base_uri": "https://localhost:8080/"
        },
        "id": "OT7SzTenw3L_",
        "outputId": "36a80b87-1b97-4430-cfba-4fef2a5d5817"
      },
      "execution_count": null,
      "outputs": [
        {
          "output_type": "stream",
          "name": "stdout",
          "text": [
            "100% 27/27 [00:09<00:00,  2.76it/s]\n"
          ]
        }
      ]
    },
    {
      "cell_type": "code",
      "source": [
        "!python3 ./Dataset/UAVidToolKit/convertTrainIdFiles2Color.py -s ./Dataset/Predictions/GT_Masks -t ./Dataset/Predictions/GT_Masks -f 'Labels'"
      ],
      "metadata": {
        "colab": {
          "base_uri": "https://localhost:8080/"
        },
        "id": "9WTo6g43zupN",
        "outputId": "1d4f6783-8bf6-4316-d211-f92d0f827036"
      },
      "execution_count": null,
      "outputs": [
        {
          "output_type": "stream",
          "name": "stdout",
          "text": [
            "100% 27/27 [00:09<00:00,  2.84it/s]\n"
          ]
        }
      ]
    },
    {
      "cell_type": "code",
      "source": [
        "!python3 ./Dataset/UAVidToolKit/evaluate.py -gt ./Dataset/Predictions/GT_Masks -p ./Dataset/Predictions/PR_Masks -v"
      ],
      "metadata": {
        "colab": {
          "base_uri": "https://localhost:8080/"
        },
        "id": "Ok-waeYG0I91",
        "outputId": "62d394d8-1989-4428-9bb2-0b764140a172"
      },
      "execution_count": null,
      "outputs": [
        {
          "output_type": "stream",
          "name": "stdout",
          "text": [
            "CSUPPORT: True\n",
            "This is a fast C++ way evaluation.\n",
            "100% 864/864 [00:05<00:00, 171.56it/s]\n",
            "IOUs: {'Clutter': 0.44621189674132017, 'Building': 0.7446012544436614, 'Road': 0.41201886517247166, 'Static_Car': 0.35727483503560375, 'Tree': 0.6592223394892675, 'Vegetation': 0.4803800844302937, 'Human': 0.33778059780837894, 'Moving_Car': 0.46829342682458097}\n",
            "mIOU: 0.48822291249319727\n",
            "acc: 0.7328254735028302\n",
            "./Dataset/UAVidToolKit/evaluate.py:120: MatplotlibDeprecationWarning: Adding an axes using the same arguments as a previous axes currently reuses the earlier instance.  In a future version, a new instance will always be created and returned.  Meanwhile, this warning can be suppressed, and the future behavior ensured, by passing a unique label to each axes instance.\n",
            "  ax = plt.axes()\n",
            "<Figure size 1400x500 with 1 Axes>\n",
            "Normalized confusion matrix\n",
            "<Figure size 800x600 with 2 Axes>\n"
          ]
        }
      ]
    }
  ],
  "metadata": {
    "colab": {
      "collapsed_sections": [
        "tH3sX2Ej6I4n",
        "ktF9vX4x5b0G",
        "8zpfDNm1Ya5u",
        "3iWh7847YrfI",
        "GjjDLrtUY3xH",
        "suxOSnZ56oBB",
        "vJNQvMOWXyjM",
        "C-DuzWLk3ch7",
        "bDxJ93GqEt2Q",
        "2smN7Au33mw9",
        "nRxLdVTSW1tl",
        "lCFwgvP4j2Zv",
        "x0P6DbwEsL6U",
        "WaTqMtxusHgi",
        "uzMajBtUGAQQ",
        "AicJGeqC0T4p",
        "AF-2Zf1qa49q",
        "kRGRCG9eAD-O",
        "pMkaTaNWCmcP",
        "oI6fbbnbE1h9",
        "NQU5eH_OCW-P"
      ],
      "machine_shape": "hm",
      "name": "Project.ipynb",
      "provenance": [],
      "include_colab_link": true
    },
    "kernelspec": {
      "display_name": "Python 3",
      "name": "python3"
    },
    "language_info": {
      "name": "python"
    },
    "accelerator": "GPU"
  },
  "nbformat": 4,
  "nbformat_minor": 0
}